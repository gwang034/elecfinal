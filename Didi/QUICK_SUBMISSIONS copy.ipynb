{
 "cells": [
  {
   "cell_type": "code",
   "execution_count": 2,
   "metadata": {},
   "outputs": [],
   "source": [
    "import sys\n",
    "import numpy as np\n",
    "import pandas as pd\n",
    "import numpy as np\n",
    "import matplotlib.pyplot as plt\n",
    "import seaborn as sns\n",
    "from tqdm import tqdm\n",
    "from sklearn.model_selection import KFold\n",
    "from sklearn.preprocessing import StandardScaler\n",
    "from sklearn.pipeline import Pipeline\n",
    "from sklearn.model_selection import GridSearchCV\n",
    "from sklearn.metrics import balanced_accuracy_score, make_scorer\n",
    "from imblearn.over_sampling import RandomOverSampler\n",
    "from sklearn import model_selection\n",
    "from sklearn.svm import SVC\n",
    "from sklearn.cluster import SpectralClustering\n",
    "from sklearn.ensemble import RandomForestClassifier\n",
    "from imblearn.ensemble import BalancedRandomForestClassifier\n",
    "from imblearn.over_sampling import SMOTE\n",
    "from sklearn.linear_model import LogisticRegression\n",
    "#from xgboost import XGBClassifier\n",
    "from sklearn.ensemble import BaggingClassifier\n",
    "\n",
    "#Models\n",
    "from sklearn.ensemble import RandomForestClassifier\n",
    "from sklearn.discriminant_analysis import LinearDiscriminantAnalysis\n",
    "\n",
    "sys.path.insert(0, '/Users/gracewang/Documents/GitHub/elecfinal')\n",
    "sys.path.insert(0, 'D:\\Fall23 Coursework\\ELEC478\\Competition\\elecfinal')\n",
    "from ml_pipeline import train_n_predict, validation, clean_split\n",
    "from Data.data_cleaner import cleaner"
   ]
  },
  {
   "cell_type": "code",
   "execution_count": 3,
   "metadata": {},
   "outputs": [],
   "source": [
    "## Clean data\n",
    "train_path = \"../Data/train_data.csv\"\n",
    "feature_path = \"../Data/feature_weights.csv\"\n",
    "morph_path = \"../Data/imputed_morph_embed.csv\"\n",
    "X_train, X_val, X_query, y_train, y_val, y_query = clean_split(train_path, feature_path, morph_path)"
   ]
  },
  {
   "cell_type": "code",
   "execution_count": 4,
   "metadata": {},
   "outputs": [],
   "source": [
    "# Oversample X_train_feat\n",
    "ros = RandomOverSampler(random_state=0, sampling_strategy = 'minority')\n",
    "X_train, y_train = ros.fit_resample(\n",
    "        X_train, y_train)"
   ]
  },
  {
   "cell_type": "code",
   "execution_count": 5,
   "metadata": {},
   "outputs": [],
   "source": [
    "X_train_feat = X_train.copy()\n",
    "X_val_feat = X_val.copy()\n",
    "X_query_feat = X_query.copy()"
   ]
  },
  {
   "cell_type": "code",
   "execution_count": 6,
   "metadata": {},
   "outputs": [],
   "source": [
    "def one_hot(column, df, suffix=''):\n",
    "    \"\"\"\n",
    "    one-hot encodes this shit\n",
    "    \"\"\"\n",
    "    cats = pd.unique(df[column])\n",
    "\n",
    "    for cat in cats:\n",
    "        new_col = cat+suffix\n",
    "        df[new_col] = df[column]==cat\n",
    "        df[new_col] = df[new_col].astype('int')\n",
    "    \n",
    "    df = df.drop(columns=column)\n",
    "    return df"
   ]
  },
  {
   "cell_type": "code",
   "execution_count": 7,
   "metadata": {},
   "outputs": [],
   "source": [
    "# one-hot encode brain areas for all\n",
    "X_train_feat = one_hot('pre_brain_area', X_train_feat, '_pre')\n",
    "X_train_feat = one_hot('post_brain_area', X_train_feat, '_post')\n",
    "\n",
    "X_val_feat = one_hot('pre_brain_area', X_val_feat, '_pre')\n",
    "X_val_feat = one_hot('post_brain_area', X_val_feat, '_post')\n",
    "\n",
    "X_query_feat = one_hot('pre_brain_area', X_query_feat, '_pre')\n",
    "X_query_feat = one_hot('post_brain_area', X_query_feat, '_post')"
   ]
  },
  {
   "cell_type": "code",
   "execution_count": 8,
   "metadata": {},
   "outputs": [],
   "source": [
    "# encode brain areas\n",
    "area1 = [\"basal\", \"soma\"]\n",
    "area2 = [\"axon\", \"apical\", \"oblique\", \"apical_shaft\"]\n",
    "area3 = [\"apical_tuft\"]\n",
    "\n",
    "def area_cols(df):\n",
    "    df[\"area1\"] = df[\"compartment\"].isin(area1).astype('int')\n",
    "    df[\"area2\"] = df[\"compartment\"].isin(area2).astype('int')\n",
    "    df[\"area3\"] = df[\"compartment\"].isin(area3).astype('int')\n",
    "    df.drop(columns='compartment')\n",
    "    return df"
   ]
  },
  {
   "cell_type": "code",
   "execution_count": 9,
   "metadata": {},
   "outputs": [],
   "source": [
    "X_train_feat = area_cols(X_train_feat)\n",
    "X_val_feat = area_cols(X_val_feat)\n",
    "X_query_feat = area_cols(X_query_feat)"
   ]
  },
  {
   "cell_type": "code",
   "execution_count": 10,
   "metadata": {},
   "outputs": [],
   "source": [
    "X_train_feat = X_train_feat.select_dtypes('number')\n",
    "X_val_feat = X_val_feat.select_dtypes('number')\n",
    "X_query_feat = X_query_feat.select_dtypes('number')"
   ]
  },
  {
   "cell_type": "code",
   "execution_count": 11,
   "metadata": {},
   "outputs": [
    {
     "data": {
      "text/plain": [
       "ID                                  int64\n",
       "axonal_coor_x                     float64\n",
       "axonal_coor_y                     float64\n",
       "axonal_coor_z                     float64\n",
       "dendritic_coor_x                  float64\n",
       "dendritic_coor_y                  float64\n",
       "dendritic_coor_z                  float64\n",
       "adp_dist                          float64\n",
       "post_skeletal_distance_to_soma    float64\n",
       "pre_skeletal_distance_to_soma     float64\n",
       "pre_oracle                        float64\n",
       "pre_test_score                    float64\n",
       "pre_rf_x                          float64\n",
       "pre_rf_y                          float64\n",
       "post_oracle                       float64\n",
       "post_test_score                   float64\n",
       "post_rf_x                         float64\n",
       "post_rf_y                         float64\n",
       "pre_nucleus_x                     float64\n",
       "pre_nucleus_y                     float64\n",
       "pre_nucleus_z                     float64\n",
       "post_nucleus_x                    float64\n",
       "post_nucleus_y                    float64\n",
       "post_nucleus_z                    float64\n",
       "pre_nucleus_id                      int64\n",
       "post_nucleus_id                     int64\n",
       "me_similarity                     float64\n",
       "fw_similarity                     float64\n",
       "nuclei_adp_dist                   float64\n",
       "RL_pre                              int32\n",
       "AL_pre                              int32\n",
       "V1_pre                              int32\n",
       "RL_post                             int32\n",
       "V1_post                             int32\n",
       "AL_post                             int32\n",
       "area1                               int32\n",
       "area2                               int32\n",
       "area3                               int32\n",
       "dtype: object"
      ]
     },
     "execution_count": 11,
     "metadata": {},
     "output_type": "execute_result"
    }
   ],
   "source": [
    "X_train_feat.dtypes"
   ]
  },
  {
   "cell_type": "markdown",
   "metadata": {},
   "source": [
    "Making submission"
   ]
  },
  {
   "cell_type": "code",
   "execution_count": 12,
   "metadata": {},
   "outputs": [],
   "source": [
    "leaderboard_path = \"../Data/leaderboard_data.csv\"\n",
    "sub_data = cleaner(leaderboard_path, feature_path, morph_path, submission = True)\n",
    "sub_data = area_cols(sub_data)\n",
    "sub_data = one_hot('pre_brain_area', sub_data, '_pre')\n",
    "sub_data = one_hot('post_brain_area', sub_data, '_post')\n",
    "sub_data = sub_data.select_dtypes('number')"
   ]
  },
  {
   "cell_type": "code",
   "execution_count": 13,
   "metadata": {},
   "outputs": [
    {
     "name": "stdout",
     "output_type": "stream",
     "text": [
      "<class 'pandas.core.frame.DataFrame'>\n",
      "RangeIndex: 42593 entries, 0 to 42592\n",
      "Data columns (total 38 columns):\n",
      " #   Column                          Non-Null Count  Dtype  \n",
      "---  ------                          --------------  -----  \n",
      " 0   ID                              42593 non-null  int64  \n",
      " 1   axonal_coor_x                   42593 non-null  float64\n",
      " 2   axonal_coor_y                   42593 non-null  float64\n",
      " 3   axonal_coor_z                   42593 non-null  float64\n",
      " 4   dendritic_coor_x                42593 non-null  float64\n",
      " 5   dendritic_coor_y                42593 non-null  float64\n",
      " 6   dendritic_coor_z                42593 non-null  float64\n",
      " 7   adp_dist                        42593 non-null  float64\n",
      " 8   post_skeletal_distance_to_soma  42593 non-null  float64\n",
      " 9   pre_skeletal_distance_to_soma   42593 non-null  float64\n",
      " 10  pre_oracle                      42593 non-null  float64\n",
      " 11  pre_test_score                  42593 non-null  float64\n",
      " 12  pre_rf_x                        42593 non-null  float64\n",
      " 13  pre_rf_y                        42593 non-null  float64\n",
      " 14  post_oracle                     42593 non-null  float64\n",
      " 15  post_test_score                 42593 non-null  float64\n",
      " 16  post_rf_x                       42593 non-null  float64\n",
      " 17  post_rf_y                       42593 non-null  float64\n",
      " 18  pre_nucleus_x                   42593 non-null  float64\n",
      " 19  pre_nucleus_y                   42593 non-null  float64\n",
      " 20  pre_nucleus_z                   42593 non-null  float64\n",
      " 21  post_nucleus_x                  42593 non-null  float64\n",
      " 22  post_nucleus_y                  42593 non-null  float64\n",
      " 23  post_nucleus_z                  42593 non-null  float64\n",
      " 24  pre_nucleus_id                  42593 non-null  int64  \n",
      " 25  post_nucleus_id                 42593 non-null  int64  \n",
      " 26  me_similarity                   42593 non-null  float64\n",
      " 27  fw_similarity                   42593 non-null  float64\n",
      " 28  nuclei_adp_dist                 42593 non-null  float64\n",
      " 29  area1                           42593 non-null  int32  \n",
      " 30  area2                           42593 non-null  int32  \n",
      " 31  area3                           42593 non-null  int32  \n",
      " 32  AL_pre                          42593 non-null  int32  \n",
      " 33  RL_pre                          42593 non-null  int32  \n",
      " 34  V1_pre                          42593 non-null  int32  \n",
      " 35  V1_post                         42593 non-null  int32  \n",
      " 36  RL_post                         42593 non-null  int32  \n",
      " 37  AL_post                         42593 non-null  int32  \n",
      "dtypes: float64(26), int32(9), int64(3)\n",
      "memory usage: 10.9 MB\n"
     ]
    }
   ],
   "source": [
    "sub_data.info()"
   ]
  },
  {
   "cell_type": "code",
   "execution_count": 18,
   "metadata": {},
   "outputs": [
    {
     "name": "stdout",
     "output_type": "stream",
     "text": [
      "<class 'pandas.core.frame.DataFrame'>\n",
      "Index: 42587 entries, 4418 to 174173\n",
      "Data columns (total 37 columns):\n",
      " #   Column                          Non-Null Count  Dtype  \n",
      "---  ------                          --------------  -----  \n",
      " 0   axonal_coor_x                   42587 non-null  float64\n",
      " 1   axonal_coor_y                   42587 non-null  float64\n",
      " 2   axonal_coor_z                   42587 non-null  float64\n",
      " 3   dendritic_coor_x                42587 non-null  float64\n",
      " 4   dendritic_coor_y                42587 non-null  float64\n",
      " 5   dendritic_coor_z                42587 non-null  float64\n",
      " 6   adp_dist                        42587 non-null  float64\n",
      " 7   post_skeletal_distance_to_soma  42587 non-null  float64\n",
      " 8   pre_skeletal_distance_to_soma   42587 non-null  float64\n",
      " 9   pre_oracle                      42587 non-null  float64\n",
      " 10  pre_test_score                  42587 non-null  float64\n",
      " 11  pre_rf_x                        42587 non-null  float64\n",
      " 12  pre_rf_y                        42587 non-null  float64\n",
      " 13  post_oracle                     42587 non-null  float64\n",
      " 14  post_test_score                 42587 non-null  float64\n",
      " 15  post_rf_x                       42587 non-null  float64\n",
      " 16  post_rf_y                       42587 non-null  float64\n",
      " 17  pre_nucleus_x                   42587 non-null  float64\n",
      " 18  pre_nucleus_y                   42587 non-null  float64\n",
      " 19  pre_nucleus_z                   42587 non-null  float64\n",
      " 20  post_nucleus_x                  42587 non-null  float64\n",
      " 21  post_nucleus_y                  42587 non-null  float64\n",
      " 22  post_nucleus_z                  42587 non-null  float64\n",
      " 23  pre_nucleus_id                  42587 non-null  int64  \n",
      " 24  post_nucleus_id                 42587 non-null  int64  \n",
      " 25  me_similarity                   42587 non-null  float64\n",
      " 26  fw_similarity                   42587 non-null  float64\n",
      " 27  nuclei_adp_dist                 42587 non-null  float64\n",
      " 28  AL_pre                          42587 non-null  int32  \n",
      " 29  V1_pre                          42587 non-null  int32  \n",
      " 30  RL_pre                          42587 non-null  int32  \n",
      " 31  V1_post                         42587 non-null  int32  \n",
      " 32  AL_post                         42587 non-null  int32  \n",
      " 33  RL_post                         42587 non-null  int32  \n",
      " 34  area1                           42587 non-null  int32  \n",
      " 35  area2                           42587 non-null  int32  \n",
      " 36  area3                           42587 non-null  int32  \n",
      "dtypes: float64(26), int32(9), int64(2)\n",
      "memory usage: 10.9 MB\n"
     ]
    }
   ],
   "source": [
    "X_val_feat.drop(\"ID\", axis = 1).info()"
   ]
  },
  {
   "cell_type": "code",
   "execution_count": 20,
   "metadata": {},
   "outputs": [],
   "source": [
    "order = X_train_feat.drop(\"ID\", axis = 1).columns"
   ]
  },
  {
   "cell_type": "code",
   "execution_count": 38,
   "metadata": {},
   "outputs": [],
   "source": [
    "max_depth_list = np.linspace(1,10, num = 10, dtype=int)\n",
    "num_features = np.linspace(1,20, num = 20, dtype = int)"
   ]
  },
  {
   "cell_type": "code",
   "execution_count": 39,
   "metadata": {},
   "outputs": [
    {
     "data": {
      "text/plain": [
       "array([ 1,  2,  3,  4,  5,  6,  7,  8,  9, 10])"
      ]
     },
     "execution_count": 39,
     "metadata": {},
     "output_type": "execute_result"
    }
   ],
   "source": [
    "max_depth_list"
   ]
  },
  {
   "cell_type": "code",
   "execution_count": 40,
   "metadata": {},
   "outputs": [
    {
     "name": "stdout",
     "output_type": "stream",
     "text": [
      "depth: 1, num features 1, valid accuracy, 0.5680541272317969\n",
      "depth: 1, num features 2, valid accuracy, 0.6035004439295912\n",
      "depth: 1, num features 3, valid accuracy, 0.6735277922251905\n",
      "depth: 1, num features 4, valid accuracy, 0.6992773092219149\n",
      "depth: 1, num features 5, valid accuracy, 0.7074034863577022\n",
      "depth: 1, num features 6, valid accuracy, 0.7334429777037019\n",
      "depth: 1, num features 7, valid accuracy, 0.7186060594419096\n",
      "depth: 1, num features 8, valid accuracy, 0.73064453027521\n",
      "depth: 1, num features 9, valid accuracy, 0.7455393613192852\n",
      "depth: 1, num features 10, valid accuracy, 0.7477643449674407\n",
      "depth: 1, num features 11, valid accuracy, 0.7439672201339145\n",
      "depth: 1, num features 12, valid accuracy, 0.750064808138359\n",
      "depth: 1, num features 13, valid accuracy, 0.7204023407435427\n",
      "depth: 1, num features 14, valid accuracy, 0.7490127738113064\n",
      "depth: 1, num features 15, valid accuracy, 0.7332277030452519\n",
      "depth: 1, num features 16, valid accuracy, 0.722837386489305\n",
      "depth: 1, num features 17, valid accuracy, 0.7481853310821638\n",
      "depth: 1, num features 18, valid accuracy, 0.7295633138161921\n",
      "depth: 1, num features 19, valid accuracy, 0.7204023407435427\n",
      "depth: 1, num features 20, valid accuracy, 0.7483626402384086\n",
      "depth: 2, num features 1, valid accuracy, 0.6086793899120284\n",
      "depth: 2, num features 2, valid accuracy, 0.6836192279302636\n",
      "depth: 2, num features 3, valid accuracy, 0.6850304364300706\n",
      "depth: 2, num features 4, valid accuracy, 0.7081527406741951\n",
      "depth: 2, num features 5, valid accuracy, 0.6999568301457088\n",
      "depth: 2, num features 6, valid accuracy, 0.715111714618943\n",
      "depth: 2, num features 7, valid accuracy, 0.7216024200073026\n",
      "depth: 2, num features 8, valid accuracy, 0.7481811035721885\n",
      "depth: 2, num features 9, valid accuracy, 0.7434031964243967\n",
      "depth: 2, num features 10, valid accuracy, 0.7544223858720065\n",
      "depth: 2, num features 11, valid accuracy, 0.7370867629521055\n",
      "depth: 2, num features 12, valid accuracy, 0.748894567707143\n",
      "depth: 2, num features 13, valid accuracy, 0.7512823310112401\n",
      "depth: 2, num features 14, valid accuracy, 0.7498520371508652\n",
      "depth: 2, num features 15, valid accuracy, 0.7493658735037078\n",
      "depth: 2, num features 16, valid accuracy, 0.7528411329661064\n",
      "depth: 2, num features 17, valid accuracy, 0.7499081029627703\n",
      "depth: 2, num features 18, valid accuracy, 0.7498062733292881\n",
      "depth: 2, num features 19, valid accuracy, 0.7500072237063655\n",
      "depth: 2, num features 20, valid accuracy, 0.7501445151710968\n",
      "depth: 3, num features 1, valid accuracy, 0.6198350089048599\n",
      "depth: 3, num features 2, valid accuracy, 0.6816497418510026\n",
      "depth: 3, num features 3, valid accuracy, 0.7050942398165441\n",
      "depth: 3, num features 4, valid accuracy, 0.7102419514777076\n",
      "depth: 3, num features 5, valid accuracy, 0.719466255112414\n",
      "depth: 3, num features 6, valid accuracy, 0.724630014893969\n",
      "depth: 3, num features 7, valid accuracy, 0.7179692650995164\n",
      "depth: 3, num features 8, valid accuracy, 0.7207189114662548\n",
      "depth: 3, num features 9, valid accuracy, 0.724547270621055\n",
      "depth: 3, num features 10, valid accuracy, 0.7216466652087914\n",
      "depth: 3, num features 11, valid accuracy, 0.7245454236506773\n",
      "depth: 3, num features 12, valid accuracy, 0.7266967747464479\n",
      "depth: 3, num features 13, valid accuracy, 0.7370185481794946\n",
      "depth: 3, num features 14, valid accuracy, 0.7381236110782761\n",
      "depth: 3, num features 15, valid accuracy, 0.7367627222603108\n",
      "depth: 3, num features 16, valid accuracy, 0.7460770349180832\n",
      "depth: 3, num features 17, valid accuracy, 0.7370730953713116\n",
      "depth: 3, num features 18, valid accuracy, 0.7366696759970686\n",
      "depth: 3, num features 19, valid accuracy, 0.751736070067325\n",
      "depth: 3, num features 20, valid accuracy, 0.7519458038146423\n",
      "depth: 4, num features 1, valid accuracy, 0.6562203663863868\n",
      "depth: 4, num features 2, valid accuracy, 0.7083437174112337\n",
      "depth: 4, num features 3, valid accuracy, 0.7175158543937209\n",
      "depth: 4, num features 4, valid accuracy, 0.7155803115256205\n",
      "depth: 4, num features 5, valid accuracy, 0.7332014760658907\n",
      "depth: 4, num features 6, valid accuracy, 0.7246048550530483\n",
      "depth: 4, num features 7, valid accuracy, 0.7276885157516201\n",
      "depth: 4, num features 8, valid accuracy, 0.7324846463404704\n",
      "depth: 4, num features 9, valid accuracy, 0.7271802295037182\n",
      "depth: 4, num features 10, valid accuracy, 0.7369910077989761\n",
      "depth: 4, num features 11, valid accuracy, 0.7367324729899052\n",
      "depth: 4, num features 12, valid accuracy, 0.7263924761158\n",
      "depth: 4, num features 13, valid accuracy, 0.7350200030996268\n",
      "depth: 4, num features 14, valid accuracy, 0.734826317472701\n",
      "depth: 4, num features 15, valid accuracy, 0.7312255871559874\n",
      "depth: 4, num features 16, valid accuracy, 0.736346620356142\n",
      "depth: 4, num features 17, valid accuracy, 0.7346444524561915\n",
      "depth: 4, num features 18, valid accuracy, 0.7316774792416947\n",
      "depth: 4, num features 19, valid accuracy, 0.7328122578416616\n",
      "depth: 4, num features 20, valid accuracy, 0.7315119906958663\n",
      "depth: 5, num features 1, valid accuracy, 0.6310367200695577\n",
      "depth: 5, num features 2, valid accuracy, 0.6893765219035911\n",
      "depth: 5, num features 3, valid accuracy, 0.7061156965229018\n",
      "depth: 5, num features 4, valid accuracy, 0.7256602549705666\n",
      "depth: 5, num features 5, valid accuracy, 0.7263916141962905\n",
      "depth: 5, num features 6, valid accuracy, 0.7363960781184741\n",
      "depth: 5, num features 7, valid accuracy, 0.736817064233197\n",
      "depth: 5, num features 8, valid accuracy, 0.7394809290868447\n",
      "depth: 5, num features 9, valid accuracy, 0.7367164248695135\n",
      "depth: 5, num features 10, valid accuracy, 0.7410885321034646\n",
      "depth: 5, num features 11, valid accuracy, 0.7408372620445454\n",
      "depth: 5, num features 12, valid accuracy, 0.7380727578272142\n",
      "depth: 5, num features 13, valid accuracy, 0.7386489304974375\n",
      "depth: 5, num features 14, valid accuracy, 0.7371358923641483\n",
      "depth: 5, num features 15, valid accuracy, 0.7329410942864423\n",
      "depth: 5, num features 16, valid accuracy, 0.7304721053295192\n"
     ]
    },
    {
     "ename": "KeyboardInterrupt",
     "evalue": "",
     "output_type": "error",
     "traceback": [
      "\u001b[1;31m---------------------------------------------------------------------------\u001b[0m",
      "\u001b[1;31mKeyboardInterrupt\u001b[0m                         Traceback (most recent call last)",
      "\u001b[1;32md:\\Fall23 Coursework\\ELEC478\\Competition\\elecfinal\\Didi\\QUICK_SUBMISSIONS copy.ipynb Cell 18\u001b[0m line \u001b[0;36m5\n\u001b[0;32m      <a href='vscode-notebook-cell:/d%3A/Fall23%20Coursework/ELEC478/Competition/elecfinal/Didi/QUICK_SUBMISSIONS%20copy.ipynb#X31sZmlsZQ%3D%3D?line=2'>3</a>\u001b[0m \u001b[39mfor\u001b[39;00m num \u001b[39min\u001b[39;00m num_features:\n\u001b[0;32m      <a href='vscode-notebook-cell:/d%3A/Fall23%20Coursework/ELEC478/Competition/elecfinal/Didi/QUICK_SUBMISSIONS%20copy.ipynb#X31sZmlsZQ%3D%3D?line=3'>4</a>\u001b[0m     RF \u001b[39m=\u001b[39m RandomForestClassifier(max_depth\u001b[39m=\u001b[39mdepth, max_features \u001b[39m=\u001b[39m num) \n\u001b[1;32m----> <a href='vscode-notebook-cell:/d%3A/Fall23%20Coursework/ELEC478/Competition/elecfinal/Didi/QUICK_SUBMISSIONS%20copy.ipynb#X31sZmlsZQ%3D%3D?line=4'>5</a>\u001b[0m     RF\u001b[39m.\u001b[39;49mfit(X_train_feat\u001b[39m.\u001b[39;49mdrop(\u001b[39m\"\u001b[39;49m\u001b[39mID\u001b[39;49m\u001b[39m\"\u001b[39;49m, axis \u001b[39m=\u001b[39;49m \u001b[39m1\u001b[39;49m),y_train)\n\u001b[0;32m      <a href='vscode-notebook-cell:/d%3A/Fall23%20Coursework/ELEC478/Competition/elecfinal/Didi/QUICK_SUBMISSIONS%20copy.ipynb#X31sZmlsZQ%3D%3D?line=5'>6</a>\u001b[0m     y_hat_valid \u001b[39m=\u001b[39m RF\u001b[39m.\u001b[39mpredict(X_val_feat[order])\n\u001b[0;32m      <a href='vscode-notebook-cell:/d%3A/Fall23%20Coursework/ELEC478/Competition/elecfinal/Didi/QUICK_SUBMISSIONS%20copy.ipynb#X31sZmlsZQ%3D%3D?line=6'>7</a>\u001b[0m     valid_acc \u001b[39m=\u001b[39m balanced_accuracy_score(y_val, y_hat_valid)\n",
      "File \u001b[1;32m~\\AppData\\Local\\Packages\\PythonSoftwareFoundation.Python.3.11_qbz5n2kfra8p0\\LocalCache\\local-packages\\Python311\\site-packages\\sklearn\\base.py:1152\u001b[0m, in \u001b[0;36m_fit_context.<locals>.decorator.<locals>.wrapper\u001b[1;34m(estimator, *args, **kwargs)\u001b[0m\n\u001b[0;32m   1145\u001b[0m     estimator\u001b[39m.\u001b[39m_validate_params()\n\u001b[0;32m   1147\u001b[0m \u001b[39mwith\u001b[39;00m config_context(\n\u001b[0;32m   1148\u001b[0m     skip_parameter_validation\u001b[39m=\u001b[39m(\n\u001b[0;32m   1149\u001b[0m         prefer_skip_nested_validation \u001b[39mor\u001b[39;00m global_skip_validation\n\u001b[0;32m   1150\u001b[0m     )\n\u001b[0;32m   1151\u001b[0m ):\n\u001b[1;32m-> 1152\u001b[0m     \u001b[39mreturn\u001b[39;00m fit_method(estimator, \u001b[39m*\u001b[39;49margs, \u001b[39m*\u001b[39;49m\u001b[39m*\u001b[39;49mkwargs)\n",
      "File \u001b[1;32m~\\AppData\\Local\\Packages\\PythonSoftwareFoundation.Python.3.11_qbz5n2kfra8p0\\LocalCache\\local-packages\\Python311\\site-packages\\sklearn\\ensemble\\_forest.py:456\u001b[0m, in \u001b[0;36mBaseForest.fit\u001b[1;34m(self, X, y, sample_weight)\u001b[0m\n\u001b[0;32m    445\u001b[0m trees \u001b[39m=\u001b[39m [\n\u001b[0;32m    446\u001b[0m     \u001b[39mself\u001b[39m\u001b[39m.\u001b[39m_make_estimator(append\u001b[39m=\u001b[39m\u001b[39mFalse\u001b[39;00m, random_state\u001b[39m=\u001b[39mrandom_state)\n\u001b[0;32m    447\u001b[0m     \u001b[39mfor\u001b[39;00m i \u001b[39min\u001b[39;00m \u001b[39mrange\u001b[39m(n_more_estimators)\n\u001b[0;32m    448\u001b[0m ]\n\u001b[0;32m    450\u001b[0m \u001b[39m# Parallel loop: we prefer the threading backend as the Cython code\u001b[39;00m\n\u001b[0;32m    451\u001b[0m \u001b[39m# for fitting the trees is internally releasing the Python GIL\u001b[39;00m\n\u001b[0;32m    452\u001b[0m \u001b[39m# making threading more efficient than multiprocessing in\u001b[39;00m\n\u001b[0;32m    453\u001b[0m \u001b[39m# that case. However, for joblib 0.12+ we respect any\u001b[39;00m\n\u001b[0;32m    454\u001b[0m \u001b[39m# parallel_backend contexts set at a higher level,\u001b[39;00m\n\u001b[0;32m    455\u001b[0m \u001b[39m# since correctness does not rely on using threads.\u001b[39;00m\n\u001b[1;32m--> 456\u001b[0m trees \u001b[39m=\u001b[39m Parallel(\n\u001b[0;32m    457\u001b[0m     n_jobs\u001b[39m=\u001b[39;49m\u001b[39mself\u001b[39;49m\u001b[39m.\u001b[39;49mn_jobs,\n\u001b[0;32m    458\u001b[0m     verbose\u001b[39m=\u001b[39;49m\u001b[39mself\u001b[39;49m\u001b[39m.\u001b[39;49mverbose,\n\u001b[0;32m    459\u001b[0m     prefer\u001b[39m=\u001b[39;49m\u001b[39m\"\u001b[39;49m\u001b[39mthreads\u001b[39;49m\u001b[39m\"\u001b[39;49m,\n\u001b[0;32m    460\u001b[0m )(\n\u001b[0;32m    461\u001b[0m     delayed(_parallel_build_trees)(\n\u001b[0;32m    462\u001b[0m         t,\n\u001b[0;32m    463\u001b[0m         \u001b[39mself\u001b[39;49m\u001b[39m.\u001b[39;49mbootstrap,\n\u001b[0;32m    464\u001b[0m         X,\n\u001b[0;32m    465\u001b[0m         y,\n\u001b[0;32m    466\u001b[0m         sample_weight,\n\u001b[0;32m    467\u001b[0m         i,\n\u001b[0;32m    468\u001b[0m         \u001b[39mlen\u001b[39;49m(trees),\n\u001b[0;32m    469\u001b[0m         verbose\u001b[39m=\u001b[39;49m\u001b[39mself\u001b[39;49m\u001b[39m.\u001b[39;49mverbose,\n\u001b[0;32m    470\u001b[0m         class_weight\u001b[39m=\u001b[39;49m\u001b[39mself\u001b[39;49m\u001b[39m.\u001b[39;49mclass_weight,\n\u001b[0;32m    471\u001b[0m         n_samples_bootstrap\u001b[39m=\u001b[39;49mn_samples_bootstrap,\n\u001b[0;32m    472\u001b[0m     )\n\u001b[0;32m    473\u001b[0m     \u001b[39mfor\u001b[39;49;00m i, t \u001b[39min\u001b[39;49;00m \u001b[39menumerate\u001b[39;49m(trees)\n\u001b[0;32m    474\u001b[0m )\n\u001b[0;32m    476\u001b[0m \u001b[39m# Collect newly grown trees\u001b[39;00m\n\u001b[0;32m    477\u001b[0m \u001b[39mself\u001b[39m\u001b[39m.\u001b[39mestimators_\u001b[39m.\u001b[39mextend(trees)\n",
      "File \u001b[1;32m~\\AppData\\Local\\Packages\\PythonSoftwareFoundation.Python.3.11_qbz5n2kfra8p0\\LocalCache\\local-packages\\Python311\\site-packages\\sklearn\\utils\\parallel.py:65\u001b[0m, in \u001b[0;36mParallel.__call__\u001b[1;34m(self, iterable)\u001b[0m\n\u001b[0;32m     60\u001b[0m config \u001b[39m=\u001b[39m get_config()\n\u001b[0;32m     61\u001b[0m iterable_with_config \u001b[39m=\u001b[39m (\n\u001b[0;32m     62\u001b[0m     (_with_config(delayed_func, config), args, kwargs)\n\u001b[0;32m     63\u001b[0m     \u001b[39mfor\u001b[39;00m delayed_func, args, kwargs \u001b[39min\u001b[39;00m iterable\n\u001b[0;32m     64\u001b[0m )\n\u001b[1;32m---> 65\u001b[0m \u001b[39mreturn\u001b[39;00m \u001b[39msuper\u001b[39;49m()\u001b[39m.\u001b[39;49m\u001b[39m__call__\u001b[39;49m(iterable_with_config)\n",
      "File \u001b[1;32m~\\AppData\\Local\\Packages\\PythonSoftwareFoundation.Python.3.11_qbz5n2kfra8p0\\LocalCache\\local-packages\\Python311\\site-packages\\joblib\\parallel.py:1863\u001b[0m, in \u001b[0;36mParallel.__call__\u001b[1;34m(self, iterable)\u001b[0m\n\u001b[0;32m   1861\u001b[0m     output \u001b[39m=\u001b[39m \u001b[39mself\u001b[39m\u001b[39m.\u001b[39m_get_sequential_output(iterable)\n\u001b[0;32m   1862\u001b[0m     \u001b[39mnext\u001b[39m(output)\n\u001b[1;32m-> 1863\u001b[0m     \u001b[39mreturn\u001b[39;00m output \u001b[39mif\u001b[39;00m \u001b[39mself\u001b[39m\u001b[39m.\u001b[39mreturn_generator \u001b[39melse\u001b[39;00m \u001b[39mlist\u001b[39m(output)\n\u001b[0;32m   1865\u001b[0m \u001b[39m# Let's create an ID that uniquely identifies the current call. If the\u001b[39;00m\n\u001b[0;32m   1866\u001b[0m \u001b[39m# call is interrupted early and that the same instance is immediately\u001b[39;00m\n\u001b[0;32m   1867\u001b[0m \u001b[39m# re-used, this id will be used to prevent workers that were\u001b[39;00m\n\u001b[0;32m   1868\u001b[0m \u001b[39m# concurrently finalizing a task from the previous call to run the\u001b[39;00m\n\u001b[0;32m   1869\u001b[0m \u001b[39m# callback.\u001b[39;00m\n\u001b[0;32m   1870\u001b[0m \u001b[39mwith\u001b[39;00m \u001b[39mself\u001b[39m\u001b[39m.\u001b[39m_lock:\n",
      "File \u001b[1;32m~\\AppData\\Local\\Packages\\PythonSoftwareFoundation.Python.3.11_qbz5n2kfra8p0\\LocalCache\\local-packages\\Python311\\site-packages\\joblib\\parallel.py:1792\u001b[0m, in \u001b[0;36mParallel._get_sequential_output\u001b[1;34m(self, iterable)\u001b[0m\n\u001b[0;32m   1790\u001b[0m \u001b[39mself\u001b[39m\u001b[39m.\u001b[39mn_dispatched_batches \u001b[39m+\u001b[39m\u001b[39m=\u001b[39m \u001b[39m1\u001b[39m\n\u001b[0;32m   1791\u001b[0m \u001b[39mself\u001b[39m\u001b[39m.\u001b[39mn_dispatched_tasks \u001b[39m+\u001b[39m\u001b[39m=\u001b[39m \u001b[39m1\u001b[39m\n\u001b[1;32m-> 1792\u001b[0m res \u001b[39m=\u001b[39m func(\u001b[39m*\u001b[39;49margs, \u001b[39m*\u001b[39;49m\u001b[39m*\u001b[39;49mkwargs)\n\u001b[0;32m   1793\u001b[0m \u001b[39mself\u001b[39m\u001b[39m.\u001b[39mn_completed_tasks \u001b[39m+\u001b[39m\u001b[39m=\u001b[39m \u001b[39m1\u001b[39m\n\u001b[0;32m   1794\u001b[0m \u001b[39mself\u001b[39m\u001b[39m.\u001b[39mprint_progress()\n",
      "File \u001b[1;32m~\\AppData\\Local\\Packages\\PythonSoftwareFoundation.Python.3.11_qbz5n2kfra8p0\\LocalCache\\local-packages\\Python311\\site-packages\\sklearn\\utils\\parallel.py:127\u001b[0m, in \u001b[0;36m_FuncWrapper.__call__\u001b[1;34m(self, *args, **kwargs)\u001b[0m\n\u001b[0;32m    125\u001b[0m     config \u001b[39m=\u001b[39m {}\n\u001b[0;32m    126\u001b[0m \u001b[39mwith\u001b[39;00m config_context(\u001b[39m*\u001b[39m\u001b[39m*\u001b[39mconfig):\n\u001b[1;32m--> 127\u001b[0m     \u001b[39mreturn\u001b[39;00m \u001b[39mself\u001b[39;49m\u001b[39m.\u001b[39;49mfunction(\u001b[39m*\u001b[39;49margs, \u001b[39m*\u001b[39;49m\u001b[39m*\u001b[39;49mkwargs)\n",
      "File \u001b[1;32m~\\AppData\\Local\\Packages\\PythonSoftwareFoundation.Python.3.11_qbz5n2kfra8p0\\LocalCache\\local-packages\\Python311\\site-packages\\sklearn\\ensemble\\_forest.py:188\u001b[0m, in \u001b[0;36m_parallel_build_trees\u001b[1;34m(tree, bootstrap, X, y, sample_weight, tree_idx, n_trees, verbose, class_weight, n_samples_bootstrap)\u001b[0m\n\u001b[0;32m    185\u001b[0m     \u001b[39melif\u001b[39;00m class_weight \u001b[39m==\u001b[39m \u001b[39m\"\u001b[39m\u001b[39mbalanced_subsample\u001b[39m\u001b[39m\"\u001b[39m:\n\u001b[0;32m    186\u001b[0m         curr_sample_weight \u001b[39m*\u001b[39m\u001b[39m=\u001b[39m compute_sample_weight(\u001b[39m\"\u001b[39m\u001b[39mbalanced\u001b[39m\u001b[39m\"\u001b[39m, y, indices\u001b[39m=\u001b[39mindices)\n\u001b[1;32m--> 188\u001b[0m     tree\u001b[39m.\u001b[39;49mfit(X, y, sample_weight\u001b[39m=\u001b[39;49mcurr_sample_weight, check_input\u001b[39m=\u001b[39;49m\u001b[39mFalse\u001b[39;49;00m)\n\u001b[0;32m    189\u001b[0m \u001b[39melse\u001b[39;00m:\n\u001b[0;32m    190\u001b[0m     tree\u001b[39m.\u001b[39mfit(X, y, sample_weight\u001b[39m=\u001b[39msample_weight, check_input\u001b[39m=\u001b[39m\u001b[39mFalse\u001b[39;00m)\n",
      "File \u001b[1;32m~\\AppData\\Local\\Packages\\PythonSoftwareFoundation.Python.3.11_qbz5n2kfra8p0\\LocalCache\\local-packages\\Python311\\site-packages\\sklearn\\base.py:1152\u001b[0m, in \u001b[0;36m_fit_context.<locals>.decorator.<locals>.wrapper\u001b[1;34m(estimator, *args, **kwargs)\u001b[0m\n\u001b[0;32m   1145\u001b[0m     estimator\u001b[39m.\u001b[39m_validate_params()\n\u001b[0;32m   1147\u001b[0m \u001b[39mwith\u001b[39;00m config_context(\n\u001b[0;32m   1148\u001b[0m     skip_parameter_validation\u001b[39m=\u001b[39m(\n\u001b[0;32m   1149\u001b[0m         prefer_skip_nested_validation \u001b[39mor\u001b[39;00m global_skip_validation\n\u001b[0;32m   1150\u001b[0m     )\n\u001b[0;32m   1151\u001b[0m ):\n\u001b[1;32m-> 1152\u001b[0m     \u001b[39mreturn\u001b[39;00m fit_method(estimator, \u001b[39m*\u001b[39;49margs, \u001b[39m*\u001b[39;49m\u001b[39m*\u001b[39;49mkwargs)\n",
      "File \u001b[1;32m~\\AppData\\Local\\Packages\\PythonSoftwareFoundation.Python.3.11_qbz5n2kfra8p0\\LocalCache\\local-packages\\Python311\\site-packages\\sklearn\\tree\\_classes.py:959\u001b[0m, in \u001b[0;36mDecisionTreeClassifier.fit\u001b[1;34m(self, X, y, sample_weight, check_input)\u001b[0m\n\u001b[0;32m    928\u001b[0m \u001b[39m@_fit_context\u001b[39m(prefer_skip_nested_validation\u001b[39m=\u001b[39m\u001b[39mTrue\u001b[39;00m)\n\u001b[0;32m    929\u001b[0m \u001b[39mdef\u001b[39;00m \u001b[39mfit\u001b[39m(\u001b[39mself\u001b[39m, X, y, sample_weight\u001b[39m=\u001b[39m\u001b[39mNone\u001b[39;00m, check_input\u001b[39m=\u001b[39m\u001b[39mTrue\u001b[39;00m):\n\u001b[0;32m    930\u001b[0m \u001b[39m    \u001b[39m\u001b[39m\"\"\"Build a decision tree classifier from the training set (X, y).\u001b[39;00m\n\u001b[0;32m    931\u001b[0m \n\u001b[0;32m    932\u001b[0m \u001b[39m    Parameters\u001b[39;00m\n\u001b[1;32m   (...)\u001b[0m\n\u001b[0;32m    956\u001b[0m \u001b[39m        Fitted estimator.\u001b[39;00m\n\u001b[0;32m    957\u001b[0m \u001b[39m    \"\"\"\u001b[39;00m\n\u001b[1;32m--> 959\u001b[0m     \u001b[39msuper\u001b[39;49m()\u001b[39m.\u001b[39;49m_fit(\n\u001b[0;32m    960\u001b[0m         X,\n\u001b[0;32m    961\u001b[0m         y,\n\u001b[0;32m    962\u001b[0m         sample_weight\u001b[39m=\u001b[39;49msample_weight,\n\u001b[0;32m    963\u001b[0m         check_input\u001b[39m=\u001b[39;49mcheck_input,\n\u001b[0;32m    964\u001b[0m     )\n\u001b[0;32m    965\u001b[0m     \u001b[39mreturn\u001b[39;00m \u001b[39mself\u001b[39m\n",
      "File \u001b[1;32m~\\AppData\\Local\\Packages\\PythonSoftwareFoundation.Python.3.11_qbz5n2kfra8p0\\LocalCache\\local-packages\\Python311\\site-packages\\sklearn\\tree\\_classes.py:443\u001b[0m, in \u001b[0;36mBaseDecisionTree._fit\u001b[1;34m(self, X, y, sample_weight, check_input, missing_values_in_feature_mask)\u001b[0m\n\u001b[0;32m    432\u001b[0m \u001b[39melse\u001b[39;00m:\n\u001b[0;32m    433\u001b[0m     builder \u001b[39m=\u001b[39m BestFirstTreeBuilder(\n\u001b[0;32m    434\u001b[0m         splitter,\n\u001b[0;32m    435\u001b[0m         min_samples_split,\n\u001b[1;32m   (...)\u001b[0m\n\u001b[0;32m    440\u001b[0m         \u001b[39mself\u001b[39m\u001b[39m.\u001b[39mmin_impurity_decrease,\n\u001b[0;32m    441\u001b[0m     )\n\u001b[1;32m--> 443\u001b[0m builder\u001b[39m.\u001b[39;49mbuild(\u001b[39mself\u001b[39;49m\u001b[39m.\u001b[39;49mtree_, X, y, sample_weight, missing_values_in_feature_mask)\n\u001b[0;32m    445\u001b[0m \u001b[39mif\u001b[39;00m \u001b[39mself\u001b[39m\u001b[39m.\u001b[39mn_outputs_ \u001b[39m==\u001b[39m \u001b[39m1\u001b[39m \u001b[39mand\u001b[39;00m is_classifier(\u001b[39mself\u001b[39m):\n\u001b[0;32m    446\u001b[0m     \u001b[39mself\u001b[39m\u001b[39m.\u001b[39mn_classes_ \u001b[39m=\u001b[39m \u001b[39mself\u001b[39m\u001b[39m.\u001b[39mn_classes_[\u001b[39m0\u001b[39m]\n",
      "\u001b[1;31mKeyboardInterrupt\u001b[0m: "
     ]
    }
   ],
   "source": [
    "accuracies = {}\n",
    "for depth in max_depth_list:\n",
    "    for num in num_features:\n",
    "        RF = RandomForestClassifier(max_depth=depth, max_features = num) \n",
    "        RF.fit(X_train_feat.drop(\"ID\", axis = 1),y_train)\n",
    "        y_hat_valid = RF.predict(X_val_feat[order])\n",
    "        valid_acc = balanced_accuracy_score(y_val, y_hat_valid)\n",
    "        accuracies[(depth, num)] = valid_acc\n",
    "        print(f\"depth: {depth}, num features {num}, valid accuracy, {valid_acc}\")"
   ]
  },
  {
   "cell_type": "code",
   "execution_count": 43,
   "metadata": {},
   "outputs": [
    {
     "name": "stdout",
     "output_type": "stream",
     "text": [
      "(2, 10)\n"
     ]
    }
   ],
   "source": [
    "best_params= max(accuracies, key=accuracies.get)\n",
    "print(best_params)"
   ]
  },
  {
   "cell_type": "code",
   "execution_count": 44,
   "metadata": {},
   "outputs": [
    {
     "data": {
      "text/html": [
       "<style>#sk-container-id-2 {color: black;}#sk-container-id-2 pre{padding: 0;}#sk-container-id-2 div.sk-toggleable {background-color: white;}#sk-container-id-2 label.sk-toggleable__label {cursor: pointer;display: block;width: 100%;margin-bottom: 0;padding: 0.3em;box-sizing: border-box;text-align: center;}#sk-container-id-2 label.sk-toggleable__label-arrow:before {content: \"▸\";float: left;margin-right: 0.25em;color: #696969;}#sk-container-id-2 label.sk-toggleable__label-arrow:hover:before {color: black;}#sk-container-id-2 div.sk-estimator:hover label.sk-toggleable__label-arrow:before {color: black;}#sk-container-id-2 div.sk-toggleable__content {max-height: 0;max-width: 0;overflow: hidden;text-align: left;background-color: #f0f8ff;}#sk-container-id-2 div.sk-toggleable__content pre {margin: 0.2em;color: black;border-radius: 0.25em;background-color: #f0f8ff;}#sk-container-id-2 input.sk-toggleable__control:checked~div.sk-toggleable__content {max-height: 200px;max-width: 100%;overflow: auto;}#sk-container-id-2 input.sk-toggleable__control:checked~label.sk-toggleable__label-arrow:before {content: \"▾\";}#sk-container-id-2 div.sk-estimator input.sk-toggleable__control:checked~label.sk-toggleable__label {background-color: #d4ebff;}#sk-container-id-2 div.sk-label input.sk-toggleable__control:checked~label.sk-toggleable__label {background-color: #d4ebff;}#sk-container-id-2 input.sk-hidden--visually {border: 0;clip: rect(1px 1px 1px 1px);clip: rect(1px, 1px, 1px, 1px);height: 1px;margin: -1px;overflow: hidden;padding: 0;position: absolute;width: 1px;}#sk-container-id-2 div.sk-estimator {font-family: monospace;background-color: #f0f8ff;border: 1px dotted black;border-radius: 0.25em;box-sizing: border-box;margin-bottom: 0.5em;}#sk-container-id-2 div.sk-estimator:hover {background-color: #d4ebff;}#sk-container-id-2 div.sk-parallel-item::after {content: \"\";width: 100%;border-bottom: 1px solid gray;flex-grow: 1;}#sk-container-id-2 div.sk-label:hover label.sk-toggleable__label {background-color: #d4ebff;}#sk-container-id-2 div.sk-serial::before {content: \"\";position: absolute;border-left: 1px solid gray;box-sizing: border-box;top: 0;bottom: 0;left: 50%;z-index: 0;}#sk-container-id-2 div.sk-serial {display: flex;flex-direction: column;align-items: center;background-color: white;padding-right: 0.2em;padding-left: 0.2em;position: relative;}#sk-container-id-2 div.sk-item {position: relative;z-index: 1;}#sk-container-id-2 div.sk-parallel {display: flex;align-items: stretch;justify-content: center;background-color: white;position: relative;}#sk-container-id-2 div.sk-item::before, #sk-container-id-2 div.sk-parallel-item::before {content: \"\";position: absolute;border-left: 1px solid gray;box-sizing: border-box;top: 0;bottom: 0;left: 50%;z-index: -1;}#sk-container-id-2 div.sk-parallel-item {display: flex;flex-direction: column;z-index: 1;position: relative;background-color: white;}#sk-container-id-2 div.sk-parallel-item:first-child::after {align-self: flex-end;width: 50%;}#sk-container-id-2 div.sk-parallel-item:last-child::after {align-self: flex-start;width: 50%;}#sk-container-id-2 div.sk-parallel-item:only-child::after {width: 0;}#sk-container-id-2 div.sk-dashed-wrapped {border: 1px dashed gray;margin: 0 0.4em 0.5em 0.4em;box-sizing: border-box;padding-bottom: 0.4em;background-color: white;}#sk-container-id-2 div.sk-label label {font-family: monospace;font-weight: bold;display: inline-block;line-height: 1.2em;}#sk-container-id-2 div.sk-label-container {text-align: center;}#sk-container-id-2 div.sk-container {/* jupyter's `normalize.less` sets `[hidden] { display: none; }` but bootstrap.min.css set `[hidden] { display: none !important; }` so we also need the `!important` here to be able to override the default hidden behavior on the sphinx rendered scikit-learn.org. See: https://github.com/scikit-learn/scikit-learn/issues/21755 */display: inline-block !important;position: relative;}#sk-container-id-2 div.sk-text-repr-fallback {display: none;}</style><div id=\"sk-container-id-2\" class=\"sk-top-container\"><div class=\"sk-text-repr-fallback\"><pre>RandomForestClassifier(max_depth=2, max_features=10)</pre><b>In a Jupyter environment, please rerun this cell to show the HTML representation or trust the notebook. <br />On GitHub, the HTML representation is unable to render, please try loading this page with nbviewer.org.</b></div><div class=\"sk-container\" hidden><div class=\"sk-item\"><div class=\"sk-estimator sk-toggleable\"><input class=\"sk-toggleable__control sk-hidden--visually\" id=\"sk-estimator-id-2\" type=\"checkbox\" checked><label for=\"sk-estimator-id-2\" class=\"sk-toggleable__label sk-toggleable__label-arrow\">RandomForestClassifier</label><div class=\"sk-toggleable__content\"><pre>RandomForestClassifier(max_depth=2, max_features=10)</pre></div></div></div></div></div>"
      ],
      "text/plain": [
       "RandomForestClassifier(max_depth=2, max_features=10)"
      ]
     },
     "execution_count": 44,
     "metadata": {},
     "output_type": "execute_result"
    }
   ],
   "source": [
    "RF = RandomForestClassifier(max_depth=best_params[0], max_features = best_params[1]) \n",
    "RF.fit(X_train_feat.drop(\"ID\", axis = 1),y_train)"
   ]
  },
  {
   "cell_type": "code",
   "execution_count": 45,
   "metadata": {},
   "outputs": [],
   "source": [
    "leaderboard_predictions = RF.predict(sub_data[order])\n",
    "sub_data[\"connected\"] = leaderboard_predictions"
   ]
  },
  {
   "cell_type": "code",
   "execution_count": 46,
   "metadata": {},
   "outputs": [],
   "source": [
    "submission_data = sub_data.filter(['ID','connected'])\n",
    "submission_data.to_csv('submission_data.csv',index=False)"
   ]
  },
  {
   "cell_type": "code",
   "execution_count": null,
   "metadata": {},
   "outputs": [],
   "source": []
  }
 ],
 "metadata": {
  "kernelspec": {
   "display_name": "Python 3",
   "language": "python",
   "name": "python3"
  },
  "language_info": {
   "codemirror_mode": {
    "name": "ipython",
    "version": 3
   },
   "file_extension": ".py",
   "mimetype": "text/x-python",
   "name": "python",
   "nbconvert_exporter": "python",
   "pygments_lexer": "ipython3",
   "version": "3.11.5"
  }
 },
 "nbformat": 4,
 "nbformat_minor": 2
}
