{
 "cells": [
  {
   "cell_type": "code",
   "execution_count": 77,
   "metadata": {},
   "outputs": [],
   "source": [
    "import sys\n",
    "import numpy as np\n",
    "import pandas as pd\n",
    "import numpy as np\n",
    "import matplotlib.pyplot as plt\n",
    "import seaborn as sns\n",
    "from tqdm import tqdm\n",
    "from sklearn.model_selection import KFold\n",
    "from sklearn.preprocessing import StandardScaler\n",
    "from sklearn.pipeline import Pipeline\n",
    "from sklearn.model_selection import GridSearchCV\n",
    "from sklearn.metrics import balanced_accuracy_score, make_scorer\n",
    "from imblearn.over_sampling import RandomOverSampler\n",
    "from sklearn import model_selection\n",
    "from sklearn.svm import SVC\n",
    "from sklearn.cluster import SpectralClustering\n",
    "from sklearn.ensemble import RandomForestClassifier\n",
    "from imblearn.ensemble import BalancedRandomForestClassifier\n",
    "from imblearn.over_sampling import SMOTE\n",
    "from sklearn.linear_model import LogisticRegression\n",
    "#from xgboost import XGBClassifier\n",
    "from sklearn.ensemble import BaggingClassifier\n",
    "from sklearn.tree import plot_tree\n",
    "from sklearn.model_selection import train_test_split\n",
    "\n",
    "#Models\n",
    "from sklearn.ensemble import RandomForestClassifier\n",
    "from sklearn.discriminant_analysis import LinearDiscriminantAnalysis\n",
    "\n",
    "sys.path.insert(0, '/Users/gracewang/Documents/GitHub/elecfinal')\n",
    "sys.path.insert(0, 'D:\\Fall23 Coursework\\ELEC478\\Competition\\elecfinal')\n",
    "from ml_pipeline import train_n_predict, validation, clean_split\n",
    "from Data.data_cleaner import cleaner"
   ]
  },
  {
   "cell_type": "code",
   "execution_count": 3,
   "metadata": {},
   "outputs": [],
   "source": [
    "## Clean data\n",
    "train_path = \"../Data/train_data.csv\"\n",
    "feature_path = \"../Data/feature_weights.csv\"\n",
    "morph_path = \"../Data/imputed_morph_embed.csv\"\n",
    "X_train, X_val, X_query, y_train, y_val, y_query = clean_split(train_path, feature_path, morph_path)"
   ]
  },
  {
   "cell_type": "code",
   "execution_count": 4,
   "metadata": {},
   "outputs": [],
   "source": [
    "# Oversample X_train_feat\n",
    "ros = RandomOverSampler(random_state=0, sampling_strategy = 'minority')\n",
    "X_train, y_train = ros.fit_resample(\n",
    "        X_train, y_train)"
   ]
  },
  {
   "cell_type": "code",
   "execution_count": 5,
   "metadata": {},
   "outputs": [],
   "source": [
    "X_train_feat = X_train.copy()\n",
    "X_val_feat = X_val.copy()\n",
    "X_query_feat = X_query.copy()"
   ]
  },
  {
   "cell_type": "code",
   "execution_count": 6,
   "metadata": {},
   "outputs": [],
   "source": [
    "def one_hot(column, df, suffix=''):\n",
    "    \"\"\"\n",
    "    one-hot encodes this shit\n",
    "    \"\"\"\n",
    "    cats = pd.unique(df[column])\n",
    "\n",
    "    for cat in cats:\n",
    "        new_col = cat+suffix\n",
    "        df[new_col] = df[column]==cat\n",
    "        df[new_col] = df[new_col].astype('int')\n",
    "    \n",
    "    df = df.drop(columns=column)\n",
    "    return df"
   ]
  },
  {
   "cell_type": "code",
   "execution_count": 7,
   "metadata": {},
   "outputs": [],
   "source": [
    "# one-hot encode brain areas for all\n",
    "X_train_feat = one_hot('pre_brain_area', X_train_feat, '_pre')\n",
    "X_train_feat = one_hot('post_brain_area', X_train_feat, '_post')\n",
    "\n",
    "X_val_feat = one_hot('pre_brain_area', X_val_feat, '_pre')\n",
    "X_val_feat = one_hot('post_brain_area', X_val_feat, '_post')\n",
    "\n",
    "X_query_feat = one_hot('pre_brain_area', X_query_feat, '_pre')\n",
    "X_query_feat = one_hot('post_brain_area', X_query_feat, '_post')"
   ]
  },
  {
   "cell_type": "code",
   "execution_count": 8,
   "metadata": {},
   "outputs": [],
   "source": [
    "# encode brain areas\n",
    "area1 = [\"basal\", \"soma\"]\n",
    "area2 = [\"axon\", \"apical\", \"oblique\", \"apical_shaft\"]\n",
    "area3 = [\"apical_tuft\"]\n",
    "\n",
    "def area_cols(df):\n",
    "    df[\"area1\"] = df[\"compartment\"].isin(area1).astype('int')\n",
    "    df[\"area2\"] = df[\"compartment\"].isin(area2).astype('int')\n",
    "    df[\"area3\"] = df[\"compartment\"].isin(area3).astype('int')\n",
    "    df.drop(columns='compartment')\n",
    "    return df"
   ]
  },
  {
   "cell_type": "code",
   "execution_count": 9,
   "metadata": {},
   "outputs": [],
   "source": [
    "X_train_feat = area_cols(X_train_feat)\n",
    "X_val_feat = area_cols(X_val_feat)\n",
    "X_query_feat = area_cols(X_query_feat)"
   ]
  },
  {
   "cell_type": "code",
   "execution_count": 10,
   "metadata": {},
   "outputs": [],
   "source": [
    "X_train_feat = X_train_feat.select_dtypes('number')\n",
    "X_val_feat = X_val_feat.select_dtypes('number')\n",
    "X_query_feat = X_query_feat.select_dtypes('number')"
   ]
  },
  {
   "cell_type": "code",
   "execution_count": 11,
   "metadata": {},
   "outputs": [
    {
     "data": {
      "text/plain": [
       "ID                                  int64\n",
       "axonal_coor_x                     float64\n",
       "axonal_coor_y                     float64\n",
       "axonal_coor_z                     float64\n",
       "dendritic_coor_x                  float64\n",
       "dendritic_coor_y                  float64\n",
       "dendritic_coor_z                  float64\n",
       "adp_dist                          float64\n",
       "post_skeletal_distance_to_soma    float64\n",
       "pre_skeletal_distance_to_soma     float64\n",
       "pre_oracle                        float64\n",
       "pre_test_score                    float64\n",
       "pre_rf_x                          float64\n",
       "pre_rf_y                          float64\n",
       "post_oracle                       float64\n",
       "post_test_score                   float64\n",
       "post_rf_x                         float64\n",
       "post_rf_y                         float64\n",
       "pre_nucleus_x                     float64\n",
       "pre_nucleus_y                     float64\n",
       "pre_nucleus_z                     float64\n",
       "post_nucleus_x                    float64\n",
       "post_nucleus_y                    float64\n",
       "post_nucleus_z                    float64\n",
       "pre_nucleus_id                      int64\n",
       "post_nucleus_id                     int64\n",
       "me_similarity                     float64\n",
       "fw_similarity                     float64\n",
       "nuclei_adp_dist                   float64\n",
       "RL_pre                              int32\n",
       "AL_pre                              int32\n",
       "V1_pre                              int32\n",
       "RL_post                             int32\n",
       "V1_post                             int32\n",
       "AL_post                             int32\n",
       "area1                               int32\n",
       "area2                               int32\n",
       "area3                               int32\n",
       "dtype: object"
      ]
     },
     "execution_count": 11,
     "metadata": {},
     "output_type": "execute_result"
    }
   ],
   "source": [
    "X_train_feat.dtypes"
   ]
  },
  {
   "cell_type": "markdown",
   "metadata": {},
   "source": [
    "Making submission"
   ]
  },
  {
   "cell_type": "code",
   "execution_count": 12,
   "metadata": {},
   "outputs": [],
   "source": [
    "leaderboard_path = \"../Data/leaderboard_data.csv\"\n",
    "sub_data = cleaner(leaderboard_path, feature_path, morph_path, submission = True)\n",
    "sub_data = area_cols(sub_data)\n",
    "sub_data = one_hot('pre_brain_area', sub_data, '_pre')\n",
    "sub_data = one_hot('post_brain_area', sub_data, '_post')\n",
    "sub_data = sub_data.select_dtypes('number')"
   ]
  },
  {
   "cell_type": "code",
   "execution_count": 13,
   "metadata": {},
   "outputs": [
    {
     "name": "stdout",
     "output_type": "stream",
     "text": [
      "<class 'pandas.core.frame.DataFrame'>\n",
      "RangeIndex: 42593 entries, 0 to 42592\n",
      "Data columns (total 38 columns):\n",
      " #   Column                          Non-Null Count  Dtype  \n",
      "---  ------                          --------------  -----  \n",
      " 0   ID                              42593 non-null  int64  \n",
      " 1   axonal_coor_x                   42593 non-null  float64\n",
      " 2   axonal_coor_y                   42593 non-null  float64\n",
      " 3   axonal_coor_z                   42593 non-null  float64\n",
      " 4   dendritic_coor_x                42593 non-null  float64\n",
      " 5   dendritic_coor_y                42593 non-null  float64\n",
      " 6   dendritic_coor_z                42593 non-null  float64\n",
      " 7   adp_dist                        42593 non-null  float64\n",
      " 8   post_skeletal_distance_to_soma  42593 non-null  float64\n",
      " 9   pre_skeletal_distance_to_soma   42593 non-null  float64\n",
      " 10  pre_oracle                      42593 non-null  float64\n",
      " 11  pre_test_score                  42593 non-null  float64\n",
      " 12  pre_rf_x                        42593 non-null  float64\n",
      " 13  pre_rf_y                        42593 non-null  float64\n",
      " 14  post_oracle                     42593 non-null  float64\n",
      " 15  post_test_score                 42593 non-null  float64\n",
      " 16  post_rf_x                       42593 non-null  float64\n",
      " 17  post_rf_y                       42593 non-null  float64\n",
      " 18  pre_nucleus_x                   42593 non-null  float64\n",
      " 19  pre_nucleus_y                   42593 non-null  float64\n",
      " 20  pre_nucleus_z                   42593 non-null  float64\n",
      " 21  post_nucleus_x                  42593 non-null  float64\n",
      " 22  post_nucleus_y                  42593 non-null  float64\n",
      " 23  post_nucleus_z                  42593 non-null  float64\n",
      " 24  pre_nucleus_id                  42593 non-null  int64  \n",
      " 25  post_nucleus_id                 42593 non-null  int64  \n",
      " 26  me_similarity                   42593 non-null  float64\n",
      " 27  fw_similarity                   42593 non-null  float64\n",
      " 28  nuclei_adp_dist                 42593 non-null  float64\n",
      " 29  area1                           42593 non-null  int32  \n",
      " 30  area2                           42593 non-null  int32  \n",
      " 31  area3                           42593 non-null  int32  \n",
      " 32  AL_pre                          42593 non-null  int32  \n",
      " 33  RL_pre                          42593 non-null  int32  \n",
      " 34  V1_pre                          42593 non-null  int32  \n",
      " 35  V1_post                         42593 non-null  int32  \n",
      " 36  RL_post                         42593 non-null  int32  \n",
      " 37  AL_post                         42593 non-null  int32  \n",
      "dtypes: float64(26), int32(9), int64(3)\n",
      "memory usage: 10.9 MB\n"
     ]
    }
   ],
   "source": [
    "sub_data.info()"
   ]
  },
  {
   "cell_type": "code",
   "execution_count": 20,
   "metadata": {},
   "outputs": [],
   "source": [
    "order = X_train_feat.drop(\"ID\", axis = 1).columns"
   ]
  },
  {
   "cell_type": "code",
   "execution_count": 38,
   "metadata": {},
   "outputs": [],
   "source": [
    "max_depth_list = np.linspace(1,10, num = 10, dtype=int)\n",
    "num_features = np.linspace(1,20, num = 20, dtype = int)"
   ]
  },
  {
   "cell_type": "code",
   "execution_count": 68,
   "metadata": {},
   "outputs": [],
   "source": [
    "X_train = pd.concat([X_train_feat, X_val_feat], ignore_index=True)"
   ]
  },
  {
   "cell_type": "code",
   "execution_count": 71,
   "metadata": {},
   "outputs": [
    {
     "data": {
      "text/plain": [
       "(269597, 38)"
      ]
     },
     "execution_count": 71,
     "metadata": {},
     "output_type": "execute_result"
    }
   ],
   "source": [
    "X_train.shape"
   ]
  },
  {
   "cell_type": "code",
   "execution_count": 72,
   "metadata": {},
   "outputs": [
    {
     "data": {
      "text/plain": [
       "(42587, 38)"
      ]
     },
     "execution_count": 72,
     "metadata": {},
     "output_type": "execute_result"
    }
   ],
   "source": [
    "X_val_feat.shape"
   ]
  },
  {
   "cell_type": "code",
   "execution_count": 73,
   "metadata": {},
   "outputs": [
    {
     "data": {
      "text/plain": [
       "(42587,)"
      ]
     },
     "execution_count": 73,
     "metadata": {},
     "output_type": "execute_result"
    }
   ],
   "source": [
    "y_val.shape"
   ]
  },
  {
   "cell_type": "code",
   "execution_count": 75,
   "metadata": {},
   "outputs": [],
   "source": [
    "y_train = pd.concat([y_train, y_val], ignore_index=True)"
   ]
  },
  {
   "cell_type": "code",
   "execution_count": 76,
   "metadata": {},
   "outputs": [
    {
     "data": {
      "text/plain": [
       "(269597,)"
      ]
     },
     "execution_count": 76,
     "metadata": {},
     "output_type": "execute_result"
    }
   ],
   "source": [
    "y_train.shape"
   ]
  },
  {
   "cell_type": "code",
   "execution_count": 84,
   "metadata": {},
   "outputs": [
    {
     "name": "stdout",
     "output_type": "stream",
     "text": [
      "depth: 1, num features 1, valid accuracy for this fold, 0.6772297925524811\n",
      "depth: 1, num features 1, valid accuracy for this fold, 0.6875913137247693\n",
      "depth: 1, num features 1, valid accuracy for this fold, 0.6991846557307764\n",
      "depth: 1, num features 1, valid accuracy for this fold, 0.7259396688863249\n",
      "depth: 1, num features 1, valid accuracy for this fold, 0.6676509761864675\n",
      "avgfold accuracy: 0.6915192814161639\n",
      "depth: 1, num features 2, valid accuracy for this fold, 0.7399862186423498\n",
      "depth: 1, num features 2, valid accuracy for this fold, 0.7161593570230298\n",
      "depth: 1, num features 2, valid accuracy for this fold, 0.7359651269669347\n",
      "depth: 1, num features 2, valid accuracy for this fold, 0.7360490728320427\n",
      "depth: 1, num features 2, valid accuracy for this fold, 0.7605860763614523\n",
      "avgfold accuracy: 0.7377491703651619\n",
      "depth: 1, num features 3, valid accuracy for this fold, 0.692741655233044\n"
     ]
    }
   ],
   "source": [
    "accuracies = {}\n",
    "for depth in max_depth_list:\n",
    "    for num in num_features:\n",
    "        fold_accuracy = 0\n",
    "        #Making  fold\n",
    "        X_train_fold, X_val_fold, y_train_fold, y_val_fold = train_test_split(X_train, y_train, test_size = 0.2, random_state = fold)\n",
    "        ros = RandomOverSampler(random_state=0, sampling_strategy = 'minority')\n",
    "        X_train_fold, y_train_fold = ros.fit_resample(\n",
    "                    X_train_fold, y_train_fold)\n",
    "        for fold in [1,2,3,4,5]:            \n",
    "            RF = RandomForestClassifier(max_depth=depth, max_features = num) \n",
    "            RF.fit(X_train_fold.drop(columns = [\"ID\",\"pre_nucleus_id\",\"post_nucleus_id\"]),y_train_fold)\n",
    "            y_hat_valid = RF.predict(X_val_fold.drop(columns = [\"ID\",\"pre_nucleus_id\",\"post_nucleus_id\"]))\n",
    "            valid_acc = balanced_accuracy_score(y_val_fold, y_hat_valid)\n",
    "            fold_accuracy += valid_acc\n",
    "            print(f\"depth: {depth}, num features {num}, valid accuracy for this fold, {valid_acc}\")\n",
    "        avg_fold_accuracy = fold_accuracy/5\n",
    "        print(f\"avgfold accuracy: {avg_fold_accuracy}\")\n",
    "        accuracies[(depth, num)] = avg_fold_accuracy\n",
    "    "
   ]
  },
  {
   "cell_type": "code",
   "execution_count": 43,
   "metadata": {},
   "outputs": [
    {
     "name": "stdout",
     "output_type": "stream",
     "text": [
      "(2, 10)\n"
     ]
    }
   ],
   "source": [
    "best_params= max(accuracies, key=accuracies.get)\n",
    "print(best_params)"
   ]
  },
  {
   "cell_type": "code",
   "execution_count": 63,
   "metadata": {},
   "outputs": [
    {
     "name": "stdout",
     "output_type": "stream",
     "text": [
      "<class 'pandas.core.frame.DataFrame'>\n",
      "RangeIndex: 227010 entries, 0 to 227009\n",
      "Data columns (total 38 columns):\n",
      " #   Column                          Non-Null Count   Dtype  \n",
      "---  ------                          --------------   -----  \n",
      " 0   ID                              227010 non-null  int64  \n",
      " 1   axonal_coor_x                   227010 non-null  float64\n",
      " 2   axonal_coor_y                   227010 non-null  float64\n",
      " 3   axonal_coor_z                   227010 non-null  float64\n",
      " 4   dendritic_coor_x                227010 non-null  float64\n",
      " 5   dendritic_coor_y                227010 non-null  float64\n",
      " 6   dendritic_coor_z                227010 non-null  float64\n",
      " 7   adp_dist                        227010 non-null  float64\n",
      " 8   post_skeletal_distance_to_soma  227010 non-null  float64\n",
      " 9   pre_skeletal_distance_to_soma   227010 non-null  float64\n",
      " 10  pre_oracle                      227010 non-null  float64\n",
      " 11  pre_test_score                  227010 non-null  float64\n",
      " 12  pre_rf_x                        227010 non-null  float64\n",
      " 13  pre_rf_y                        227010 non-null  float64\n",
      " 14  post_oracle                     227010 non-null  float64\n",
      " 15  post_test_score                 227010 non-null  float64\n",
      " 16  post_rf_x                       227010 non-null  float64\n",
      " 17  post_rf_y                       227010 non-null  float64\n",
      " 18  pre_nucleus_x                   227010 non-null  float64\n",
      " 19  pre_nucleus_y                   227010 non-null  float64\n",
      " 20  pre_nucleus_z                   227010 non-null  float64\n",
      " 21  post_nucleus_x                  227010 non-null  float64\n",
      " 22  post_nucleus_y                  227010 non-null  float64\n",
      " 23  post_nucleus_z                  227010 non-null  float64\n",
      " 24  pre_nucleus_id                  227010 non-null  int64  \n",
      " 25  post_nucleus_id                 227010 non-null  int64  \n",
      " 26  me_similarity                   227010 non-null  float64\n",
      " 27  fw_similarity                   227010 non-null  float64\n",
      " 28  nuclei_adp_dist                 227010 non-null  float64\n",
      " 29  RL_pre                          227010 non-null  int32  \n",
      " 30  AL_pre                          227010 non-null  int32  \n",
      " 31  V1_pre                          227010 non-null  int32  \n",
      " 32  RL_post                         227010 non-null  int32  \n",
      " 33  V1_post                         227010 non-null  int32  \n",
      " 34  AL_post                         227010 non-null  int32  \n",
      " 35  area1                           227010 non-null  int32  \n",
      " 36  area2                           227010 non-null  int32  \n",
      " 37  area3                           227010 non-null  int32  \n",
      "dtypes: float64(26), int32(9), int64(3)\n",
      "memory usage: 58.0 MB\n"
     ]
    }
   ],
   "source": [
    "X_train_feat.info()"
   ]
  },
  {
   "cell_type": "code",
   "execution_count": 45,
   "metadata": {},
   "outputs": [],
   "source": [
    "leaderboard_predictions = RF.predict(sub_data[order])\n",
    "sub_data[\"connected\"] = leaderboard_predictions"
   ]
  },
  {
   "cell_type": "code",
   "execution_count": 46,
   "metadata": {},
   "outputs": [],
   "source": [
    "submission_data = sub_data.filter(['ID','connected'])\n",
    "submission_data.to_csv('submission_data.csv',index=False)"
   ]
  },
  {
   "cell_type": "code",
   "execution_count": null,
   "metadata": {},
   "outputs": [],
   "source": []
  }
 ],
 "metadata": {
  "kernelspec": {
   "display_name": "Python 3",
   "language": "python",
   "name": "python3"
  },
  "language_info": {
   "codemirror_mode": {
    "name": "ipython",
    "version": 3
   },
   "file_extension": ".py",
   "mimetype": "text/x-python",
   "name": "python",
   "nbconvert_exporter": "python",
   "pygments_lexer": "ipython3",
   "version": "3.11.5"
  }
 },
 "nbformat": 4,
 "nbformat_minor": 2
}
