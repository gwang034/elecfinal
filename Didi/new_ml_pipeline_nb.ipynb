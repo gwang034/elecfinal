{
 "cells": [
  {
   "cell_type": "code",
   "execution_count": 1,
   "metadata": {},
   "outputs": [],
   "source": [
    "import sys\n",
    "import numpy as np\n",
    "import pandas as pd\n",
    "import numpy as np\n",
    "import matplotlib.pyplot as plt\n",
    "import seaborn as sns\n",
    "from tqdm import tqdm\n",
    "from sklearn.model_selection import KFold\n",
    "from sklearn.preprocessing import StandardScaler\n",
    "from sklearn.pipeline import Pipeline\n",
    "from sklearn.model_selection import GridSearchCV\n",
    "from sklearn.metrics import balanced_accuracy_score, make_scorer, accuracy_score \n",
    "from imblearn.over_sampling import RandomOverSampler\n",
    "from sklearn import model_selection\n",
    "from sklearn.svm import SVC\n",
    "\n",
    "#Models\n",
    "from sklearn.ensemble import RandomForestClassifier\n",
    "from sklearn.discriminant_analysis import LinearDiscriminantAnalysis\n",
    "\n",
    "\n",
    "sys.path.insert(0, 'D:\\Fall23 Coursework\\ELEC478\\Competition\\elecfinal')"
   ]
  },
  {
   "cell_type": "code",
   "execution_count": 2,
   "metadata": {},
   "outputs": [],
   "source": [
    "from ml_pipeline import clean_split"
   ]
  },
  {
   "cell_type": "code",
   "execution_count": 49,
   "metadata": {},
   "outputs": [],
   "source": [
    "train_path = \"../Data/train_data.csv\"\n",
    "feature_path = \"../Data/feature_weights.csv\"\n",
    "morph_path = \"../Data/imputed_morph_embed.csv\"\n",
    "X_train, X_val, X_query, y_train, y_val, y_query = clean_split(train_path, feature_path, morph_path)"
   ]
  },
  {
   "cell_type": "code",
   "execution_count": 50,
   "metadata": {},
   "outputs": [],
   "source": [
    "X_train = X_train.select_dtypes(include='number').drop([\"ID\",\"pre_nucleus_id\", \"post_nucleus_id\"], axis = 1)\n",
    "X_val = X_val.select_dtypes(include='number').drop([\"ID\",\"pre_nucleus_id\", \"post_nucleus_id\"], axis = 1)\n",
    "X_query = X_query.select_dtypes(include='number').drop([\"ID\",\"pre_nucleus_id\", \"post_nucleus_id\"], axis = 1)"
   ]
  },
  {
   "cell_type": "code",
   "execution_count": 51,
   "metadata": {},
   "outputs": [
    {
     "name": "stdout",
     "output_type": "stream",
     "text": [
      "<class 'pandas.core.frame.DataFrame'>\n",
      "Index: 102683 entries, 6063 to 185831\n",
      "Data columns (total 10 columns):\n",
      " #   Column                          Non-Null Count   Dtype  \n",
      "---  ------                          --------------   -----  \n",
      " 0   adp_dist                        102683 non-null  float64\n",
      " 1   post_skeletal_distance_to_soma  102683 non-null  float64\n",
      " 2   pre_skeletal_distance_to_soma   102683 non-null  float64\n",
      " 3   pre_oracle                      102683 non-null  float64\n",
      " 4   pre_test_score                  102683 non-null  float64\n",
      " 5   post_oracle                     102683 non-null  float64\n",
      " 6   post_test_score                 102683 non-null  float64\n",
      " 7   me_similarity                   102683 non-null  float64\n",
      " 8   fw_similarity                   102683 non-null  float64\n",
      " 9   nuclei_adp_dist                 102683 non-null  float64\n",
      "dtypes: float64(10)\n",
      "memory usage: 8.6 MB\n"
     ]
    }
   ],
   "source": [
    "X_train.info()"
   ]
  },
  {
   "cell_type": "code",
   "execution_count": 54,
   "metadata": {},
   "outputs": [
    {
     "data": {
      "text/plain": [
       "(102683,)"
      ]
     },
     "execution_count": 54,
     "metadata": {},
     "output_type": "execute_result"
    }
   ],
   "source": [
    "y_train.shape"
   ]
  },
  {
   "cell_type": "code",
   "execution_count": 55,
   "metadata": {},
   "outputs": [
    {
     "data": {
      "text/plain": [
       "0.006505458547179183"
      ]
     },
     "execution_count": 55,
     "metadata": {},
     "output_type": "execute_result"
    }
   ],
   "source": [
    "sum(y_train)/y_train.shape[0]"
   ]
  },
  {
   "cell_type": "code",
   "execution_count": 56,
   "metadata": {},
   "outputs": [],
   "source": [
    "ros = RandomOverSampler(random_state=0, sampling_strategy = 'minority')\n",
    "X_train, y_train = ros.fit_resample(\n",
    "    X_train, y_train\n",
    ")"
   ]
  },
  {
   "cell_type": "code",
   "execution_count": 57,
   "metadata": {},
   "outputs": [
    {
     "data": {
      "text/plain": [
       "0.5"
      ]
     },
     "execution_count": 57,
     "metadata": {},
     "output_type": "execute_result"
    }
   ],
   "source": [
    "sum(y_train)/y_train.shape[0]"
   ]
  },
  {
   "cell_type": "code",
   "execution_count": 8,
   "metadata": {},
   "outputs": [
    {
     "name": "stdout",
     "output_type": "stream",
     "text": [
      "<class 'pandas.core.frame.DataFrame'>\n",
      "RangeIndex: 207068 entries, 0 to 207067\n",
      "Data columns (total 10 columns):\n",
      " #   Column                          Non-Null Count   Dtype  \n",
      "---  ------                          --------------   -----  \n",
      " 0   adp_dist                        207068 non-null  float64\n",
      " 1   post_skeletal_distance_to_soma  207068 non-null  float64\n",
      " 2   pre_skeletal_distance_to_soma   207068 non-null  float64\n",
      " 3   pre_oracle                      207068 non-null  float64\n",
      " 4   pre_test_score                  207068 non-null  float64\n",
      " 5   post_oracle                     207068 non-null  float64\n",
      " 6   post_test_score                 207068 non-null  float64\n",
      " 7   me_similarity                   207068 non-null  float64\n",
      " 8   fw_similarity                   207068 non-null  float64\n",
      " 9   nuclei_adp_dist                 207068 non-null  float64\n",
      "dtypes: float64(10)\n",
      "memory usage: 15.8 MB\n"
     ]
    }
   ],
   "source": [
    "X_train.info()"
   ]
  },
  {
   "cell_type": "code",
   "execution_count": 48,
   "metadata": {},
   "outputs": [
    {
     "name": "stdout",
     "output_type": "stream",
     "text": [
      "<class 'pandas.core.series.Series'>\n",
      "RangeIndex: 207068 entries, 0 to 207067\n",
      "Series name: connected\n",
      "Non-Null Count   Dtype\n",
      "--------------   -----\n",
      "207068 non-null  bool \n",
      "dtypes: bool(1)\n",
      "memory usage: 202.3 KB\n"
     ]
    }
   ],
   "source": [
    "y_train.info()"
   ]
  },
  {
   "cell_type": "code",
   "execution_count": 58,
   "metadata": {},
   "outputs": [],
   "source": [
    "models = {\"RFC\": RandomForestClassifier(), \"LDA\": LinearDiscriminantAnalysis()}\n",
    "param_grids = {\n",
    "            \"RFC\": [{'n_estimators' : 1000, 'n_jobs' : -1}, \n",
    "                    {'n_estimators' : 10000, 'n_jobs' : -1}],\n",
    "            \"LDA\": [{'solver' : 'lsqr'},\n",
    "                    {'solver' : 'eigen'}]\n",
    "            }"
   ]
  },
  {
   "cell_type": "code",
   "execution_count": 59,
   "metadata": {},
   "outputs": [
    {
     "name": "stdout",
     "output_type": "stream",
     "text": [
      "RandomForestClassifier(n_estimators=1000, n_jobs=-1)\n",
      "[False False False ... False False False]\n",
      "0         False\n",
      "1         False\n",
      "2         False\n",
      "3         False\n",
      "4         False\n",
      "          ...  \n",
      "179187    False\n",
      "179188    False\n",
      "179189    False\n",
      "179190    False\n",
      "179191    False\n",
      "Name: connected, Length: 51837, dtype: bool\n",
      "[0.5011557750528338]\n",
      "0.5011557750528338 0.5011557750528338\n",
      "RandomForestClassifier(n_estimators=10000, n_jobs=-1)\n",
      "[False False False ... False False False]\n",
      "0         False\n",
      "1         False\n",
      "2         False\n",
      "3         False\n",
      "4         False\n",
      "          ...  \n",
      "179187    False\n",
      "179188    False\n",
      "179189    False\n",
      "179190    False\n",
      "179191    False\n",
      "Name: connected, Length: 51837, dtype: bool\n",
      "[0.5011557750528338, 0.5011557750528338]\n",
      "LinearDiscriminantAnalysis(solver='lsqr')\n",
      "[ True  True False ... False False False]\n",
      "0         False\n",
      "1         False\n",
      "2         False\n",
      "3         False\n",
      "4         False\n",
      "          ...  \n",
      "179187    False\n",
      "179188    False\n",
      "179189    False\n",
      "179190    False\n",
      "179191    False\n",
      "Name: connected, Length: 51837, dtype: bool\n",
      "[0.7386763563234151]\n",
      "0.7386763563234151 0.7386763563234151\n",
      "LinearDiscriminantAnalysis(solver='eigen')\n",
      "[ True  True False ... False False False]\n",
      "0         False\n",
      "1         False\n",
      "2         False\n",
      "3         False\n",
      "4         False\n",
      "          ...  \n",
      "179187    False\n",
      "179188    False\n",
      "179189    False\n",
      "179190    False\n",
      "179191    False\n",
      "Name: connected, Length: 51837, dtype: bool\n",
      "[0.7386763563234151, 0.7386763563234151]\n"
     ]
    }
   ],
   "source": [
    "optimum_models = dict()\n",
    "accuracies = dict()\n",
    "for model in param_grids:\n",
    "    classifier = models[model]\n",
    "    prev_acc = 0\n",
    "    optimum_param = dict()\n",
    "    accuracy = []\n",
    "    for values in param_grids[model]:\n",
    "        \n",
    "        #Fitting to the training data with selected hyperparameters\n",
    "        classifier.set_params(**values)\n",
    "        print(classifier)\n",
    "        classifier.fit(X_train, y_train)\n",
    "\n",
    "        #Finding the balanced accuracy\n",
    "        y_hat = classifier.predict(X_val)\n",
    "        print(y_hat)\n",
    "        print(y_val)\n",
    "        balanced_accuracy = balanced_accuracy_score(y_val, y_hat)\n",
    "        accuracy.append(balanced_accuracy)\n",
    "        print(accuracy)\n",
    "        if balanced_accuracy > prev_acc:\n",
    "            print(prev_acc, balanced_accuracy)\n",
    "            prev_acc = balanced_accuracy\n",
    "            optimum_param = values\n",
    "            \n",
    "        \n",
    "    accuracies[model] = accuracy\n",
    "    optimum_models[model] = classifier.set_params(**optimum_param)"
   ]
  },
  {
   "cell_type": "code",
   "execution_count": 60,
   "metadata": {},
   "outputs": [
    {
     "data": {
      "text/plain": [
       "{'RFC': [0.5011557750528338, 0.5011557750528338],\n",
       " 'LDA': [0.7386763563234151, 0.7386763563234151]}"
      ]
     },
     "execution_count": 60,
     "metadata": {},
     "output_type": "execute_result"
    }
   ],
   "source": [
    "accuracies"
   ]
  },
  {
   "cell_type": "code",
   "execution_count": 47,
   "metadata": {},
   "outputs": [
    {
     "data": {
      "text/plain": [
       "{'RFC': RandomForestClassifier(n_jobs=-1),\n",
       " 'LDA': LinearDiscriminantAnalysis(solver='lsqr')}"
      ]
     },
     "execution_count": 47,
     "metadata": {},
     "output_type": "execute_result"
    }
   ],
   "source": [
    "optimum_models"
   ]
  },
  {
   "cell_type": "code",
   "execution_count": null,
   "metadata": {},
   "outputs": [],
   "source": []
  }
 ],
 "metadata": {
  "kernelspec": {
   "display_name": "Python 3",
   "language": "python",
   "name": "python3"
  },
  "language_info": {
   "codemirror_mode": {
    "name": "ipython",
    "version": 3
   },
   "file_extension": ".py",
   "mimetype": "text/x-python",
   "name": "python",
   "nbconvert_exporter": "python",
   "pygments_lexer": "ipython3",
   "version": "3.11.5"
  }
 },
 "nbformat": 4,
 "nbformat_minor": 2
}
