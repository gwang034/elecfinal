{
 "cells": [
  {
   "cell_type": "code",
   "execution_count": 1,
   "metadata": {},
   "outputs": [],
   "source": [
    "import sys\n",
    "import numpy as np\n",
    "import pandas as pd\n",
    "import numpy as np\n",
    "import matplotlib.pyplot as plt\n",
    "import seaborn as sns\n",
    "from tqdm import tqdm\n",
    "from sklearn.model_selection import KFold\n",
    "from sklearn.preprocessing import StandardScaler\n",
    "from sklearn.pipeline import Pipeline\n",
    "from sklearn.model_selection import GridSearchCV\n",
    "from sklearn.metrics import balanced_accuracy_score, make_scorer\n",
    "from imblearn.over_sampling import RandomOverSampler\n",
    "from sklearn import model_selection\n",
    "from sklearn.svm import SVC\n",
    "\n",
    "#Models\n",
    "from sklearn.ensemble import RandomForestClassifier\n",
    "from sklearn.discriminant_analysis import LinearDiscriminantAnalysis\n",
    "\n",
    "\n",
    "sys.path.insert(0, 'D:\\Fall23 Coursework\\ELEC478\\Competition\\elecfinal')"
   ]
  },
  {
   "cell_type": "code",
   "execution_count": 31,
   "metadata": {},
   "outputs": [],
   "source": [
    "from ml_pipeline import train_n_predict, validation, clean_split"
   ]
  },
  {
   "cell_type": "code",
   "execution_count": 3,
   "metadata": {},
   "outputs": [],
   "source": [
    "from Data.data_cleaner import cleaner"
   ]
  },
  {
   "cell_type": "code",
   "execution_count": 4,
   "metadata": {},
   "outputs": [],
   "source": [
    "## Clean data\n",
    "\n",
    "\n",
    "train_path = \"../Data/train_data.csv\"\n",
    "feature_path = \"../Data/feature_weights.csv\"\n",
    "morph_path = \"../Data/morph_embeddings.csv\"\n",
    "\n",
    "X_train, X_val, X_query, y_train, y_val, y_query = clean_split(train_path, feature_path, morph_path)"
   ]
  },
  {
   "cell_type": "code",
   "execution_count": 5,
   "metadata": {},
   "outputs": [],
   "source": [
    "data = cleaner(train_path, feature_path, morph_path)"
   ]
  },
  {
   "cell_type": "code",
   "execution_count": 9,
   "metadata": {},
   "outputs": [],
   "source": [
    "valid_X = X_val.select_dtypes(include='number').drop([\"ID\", \"ADP_total\", \"connect_total\",\"connect_rate\"], axis = 1)\n",
    "valid_y = y_val"
   ]
  },
  {
   "cell_type": "markdown",
   "metadata": {},
   "source": [
    "Using Validation"
   ]
  },
  {
   "cell_type": "code",
   "execution_count": 15,
   "metadata": {},
   "outputs": [],
   "source": [
    "\"\"\"\n",
    "    Function that outputs a model with optimal hyperparameters\n",
    "    based on a validation set using grid search\n",
    "\n",
    "    Inputs:\n",
    "    model: provided model\n",
    "    param_grid: dictionary of parameters and values to validate on\n",
    "    e.g. \n",
    "    {'C': [0.001,0.01,0.1,1,10], \n",
    "    'gamma':[0.1,1,10,100], \n",
    "    'kernel':('linear', 'rbf')}\n",
    "    valid_X: validation X of data (pandas df)\n",
    "    valid_y: validation y of data\n",
    "\n",
    "    Outputs: \n",
    "    clf: provided model with optimum hyperparameters\n",
    "    \"\"\"\n",
    "pre_valid_models = [RandomForestClassifier(), LinearDiscriminantAnalysis()]\n",
    "param_grids = [\n",
    "    {\n",
    "    'max_features' : ['sqrt', 'log2'],\n",
    "    'n_jobs' : [-1],\n",
    "    'random_state': [1]\n",
    "    },\n",
    "    {\n",
    "    'solver' : ['lsqr', 'eigen'],\n",
    "    'shrinkage' : ['auto']\n",
    "    }]\n",
    "post_valid_models = []\n",
    "\n",
    "for i in range(len(pre_valid_models)):\n",
    "    best_clf = validation(model = pre_valid_models[i], \n",
    "                                        param_grid = param_grids[i], \n",
    "                                        valid_X = valid_X, \n",
    "                                        valid_y = valid_y)\n",
    "    post_valid_models.append(best_clf)\n"
   ]
  },
  {
   "cell_type": "markdown",
   "metadata": {},
   "source": [
    "Training and Predicting"
   ]
  },
  {
   "cell_type": "code",
   "execution_count": 17,
   "metadata": {},
   "outputs": [],
   "source": [
    "query_X = X_query.select_dtypes(include='number').drop([\"ID\", \"ADP_total\", \"connect_total\",\"connect_rate\"], axis = 1)\n",
    "query_y = y_query\n",
    "\n",
    "train_X = X_train.select_dtypes(include='number').drop([\"ID\", \"ADP_total\", \"connect_total\",\"connect_rate\"], axis = 1)\n",
    "train_y = y_train"
   ]
  },
  {
   "cell_type": "code",
   "execution_count": 32,
   "metadata": {},
   "outputs": [],
   "source": [
    "\"\"\"\n",
    "    Function that takes in a dataframe of data and outputs \n",
    "    a fitted \"optimal\" model\n",
    "\n",
    "    Inputs:\n",
    "    - train: training set\n",
    "    - query: query set\n",
    "    - models: dictionary of (model_name : model function) to train and predict on, with optimized \n",
    "    parameters already.\n",
    "\n",
    "    Outputs:\n",
    "    - best_clf: The optimum classifier function fitted over training data\n",
    "\n",
    "    - accuracy_score: list of accuracies based on order of models\n",
    "    passed.\n",
    "    \"\"\"\n",
    "\n",
    "models = {\"RF\": post_valid_models[0], \"LDA\": post_valid_models[1]}\n",
    "accuracy_score, best_clf = train_n_predict(train_X, train_y, query_X, query_y, models)"
   ]
  },
  {
   "cell_type": "code",
   "execution_count": 34,
   "metadata": {},
   "outputs": [
    {
     "name": "stdout",
     "output_type": "stream",
     "text": [
      "this is the best classifier, RandomForestClassifier(n_jobs=-1, random_state=1) with a balanced accuracy score of {'RF': 1.0, 'LDA': 0.7410016164153643}\n"
     ]
    }
   ],
   "source": [
    "print(\"this is the best classifier,\", best_clf, \"with a balanced accuracy score of\", accuracy_score)"
   ]
  },
  {
   "cell_type": "code",
   "execution_count": 25,
   "metadata": {},
   "outputs": [],
   "source": [
    "leaderboard_path = \"../Data/leaderboard_data.csv\"\n",
    "sub_data = cleaner(leaderboard_path, feature_path, morph_path, submission = True)"
   ]
  },
  {
   "cell_type": "code",
   "execution_count": 28,
   "metadata": {},
   "outputs": [],
   "source": [
    "lb_data = sub_data.select_dtypes(include='number')"
   ]
  },
  {
   "cell_type": "code",
   "execution_count": 30,
   "metadata": {},
   "outputs": [],
   "source": [
    "#create a boolean prediction solution\n",
    "lb_data[\"connected\"] = best_clf.predict(lb_data.drop(\"ID\", axis = 1))"
   ]
  },
  {
   "cell_type": "code",
   "execution_count": 83,
   "metadata": {},
   "outputs": [],
   "source": [
    "submission_data = lb_data.filter(['ID','connected'])"
   ]
  },
  {
   "cell_type": "code",
   "execution_count": 84,
   "metadata": {},
   "outputs": [],
   "source": [
    "submission_data.to_csv('submission_data.csv',index=False)"
   ]
  }
 ],
 "metadata": {
  "kernelspec": {
   "display_name": "Python 3",
   "language": "python",
   "name": "python3"
  },
  "language_info": {
   "codemirror_mode": {
    "name": "ipython",
    "version": 3
   },
   "file_extension": ".py",
   "mimetype": "text/x-python",
   "name": "python",
   "nbconvert_exporter": "python",
   "pygments_lexer": "ipython3",
   "version": "3.11.5"
  }
 },
 "nbformat": 4,
 "nbformat_minor": 2
}
