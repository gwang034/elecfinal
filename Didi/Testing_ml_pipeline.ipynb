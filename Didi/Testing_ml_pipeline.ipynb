{
 "cells": [
  {
   "cell_type": "code",
   "execution_count": 1,
   "metadata": {},
   "outputs": [],
   "source": [
    "import sys\n",
    "import numpy as np\n",
    "import pandas as pd\n",
    "import numpy as np\n",
    "import matplotlib.pyplot as plt\n",
    "import seaborn as sns\n",
    "from tqdm import tqdm\n",
    "from sklearn.model_selection import KFold\n",
    "from sklearn.preprocessing import StandardScaler\n",
    "from sklearn.pipeline import Pipeline\n",
    "from sklearn.model_selection import GridSearchCV\n",
    "from sklearn.metrics import balanced_accuracy_score, make_scorer\n",
    "from imblearn.over_sampling import RandomOverSampler\n",
    "from sklearn import model_selection\n",
    "\n",
    "#Models\n",
    "from sklearn.ensemble import RandomForestClassifier\n",
    "from sklearn.discriminant_analysis import LinearDiscriminantAnalysis\n",
    "\n",
    "\n",
    "sys.path.insert(0, 'D:\\Fall23 Coursework\\ELEC478\\Competition\\elecfinal')"
   ]
  },
  {
   "cell_type": "code",
   "execution_count": 2,
   "metadata": {},
   "outputs": [],
   "source": [
    "from ml_pipeline import train_n_predict, validation, clean_split"
   ]
  },
  {
   "cell_type": "code",
   "execution_count": 3,
   "metadata": {},
   "outputs": [],
   "source": [
    "from Data.data_cleaner import cleaner"
   ]
  },
  {
   "cell_type": "code",
   "execution_count": 5,
   "metadata": {},
   "outputs": [],
   "source": [
    "## Clean data\n",
    "\n",
    "\n",
    "train_path = \"../Data/train_data.csv\"\n",
    "feature_path = \"../Data/feature_weights.csv\"\n",
    "morph_path = \"../Data/morph_embeddings.csv\"\n",
    "X_train, X_val, X_query, y_train, y_val, y_query = clean_split(train_path, feature_path, morph_path)"
   ]
  },
  {
   "cell_type": "code",
   "execution_count": 6,
   "metadata": {},
   "outputs": [],
   "source": [
    "valid_X = X_val.select_dtypes(include='number').drop(\"ID\", axis = 1)\n",
    "valid_y = y_val"
   ]
  },
  {
   "cell_type": "markdown",
   "metadata": {},
   "source": [
    "Using Validation"
   ]
  },
  {
   "cell_type": "code",
   "execution_count": 7,
   "metadata": {},
   "outputs": [
    {
     "name": "stderr",
     "output_type": "stream",
     "text": [
      "C:\\Users\\86185\\AppData\\Local\\Packages\\PythonSoftwareFoundation.Python.3.11_qbz5n2kfra8p0\\LocalCache\\local-packages\\Python311\\site-packages\\sklearn\\model_selection\\_validation.py:425: FitFailedWarning: \n",
      "5 fits failed out of a total of 20.\n",
      "The score on these train-test partitions for these parameters will be set to nan.\n",
      "If these failures are not expected, you can try to debug them by setting error_score='raise'.\n",
      "\n",
      "Below are more details about the failures:\n",
      "--------------------------------------------------------------------------------\n",
      "5 fits failed with the following error:\n",
      "Traceback (most recent call last):\n",
      "  File \"C:\\Users\\86185\\AppData\\Local\\Packages\\PythonSoftwareFoundation.Python.3.11_qbz5n2kfra8p0\\LocalCache\\local-packages\\Python311\\site-packages\\sklearn\\model_selection\\_validation.py\", line 729, in _fit_and_score\n",
      "    estimator.fit(X_train, y_train, **fit_params)\n",
      "  File \"C:\\Users\\86185\\AppData\\Local\\Packages\\PythonSoftwareFoundation.Python.3.11_qbz5n2kfra8p0\\LocalCache\\local-packages\\Python311\\site-packages\\sklearn\\base.py\", line 1152, in wrapper\n",
      "    return fit_method(estimator, *args, **kwargs)\n",
      "           ^^^^^^^^^^^^^^^^^^^^^^^^^^^^^^^^^^^^^^\n",
      "  File \"C:\\Users\\86185\\AppData\\Local\\Packages\\PythonSoftwareFoundation.Python.3.11_qbz5n2kfra8p0\\LocalCache\\local-packages\\Python311\\site-packages\\sklearn\\discriminant_analysis.py\", line 621, in fit\n",
      "    raise NotImplementedError(\"shrinkage not supported with 'svd' solver.\")\n",
      "NotImplementedError: shrinkage not supported with 'svd' solver.\n",
      "\n",
      "  warnings.warn(some_fits_failed_message, FitFailedWarning)\n",
      "C:\\Users\\86185\\AppData\\Local\\Packages\\PythonSoftwareFoundation.Python.3.11_qbz5n2kfra8p0\\LocalCache\\local-packages\\Python311\\site-packages\\sklearn\\model_selection\\_search.py:979: UserWarning: One or more of the test scores are non-finite: [0.67707309 0.67707309        nan 0.55192591]\n",
      "  warnings.warn(\n"
     ]
    }
   ],
   "source": [
    "\"\"\"\n",
    "    Function that outputs a model with optimal hyperparameters\n",
    "    based on a validation set using grid search\n",
    "\n",
    "    Inputs:\n",
    "    model: provided model\n",
    "    param_grid: dictionary of parameters and values to validate on\n",
    "    e.g. \n",
    "    {'C': [0.001,0.01,0.1,1,10], \n",
    "    'gamma':[0.1,1,10,100], \n",
    "    'kernel':('linear', 'rbf')}\n",
    "    valid_X: validation X of data (pandas df)\n",
    "    valid_y: validation y of data\n",
    "\n",
    "    Outputs: \n",
    "    clf: provided model with optimum hyperparameters\n",
    "    \"\"\"\n",
    "pre_valid_models = [RandomForestClassifier(), LinearDiscriminantAnalysis()]\n",
    "param_grids = [\n",
    "    {'max_features': ['sqrt', 'log2'],\n",
    "     'criterion' :['gini', 'entropy']},\n",
    "     {'shrinkage': [None, 0.5],\n",
    "      'solver':['svd','eigen']}\n",
    "]\n",
    "post_valid_models = []\n",
    "for i in range(len(pre_valid_models)):\n",
    "    best_clf = validation(model = pre_valid_models[i], \n",
    "                                        param_grid = param_grids[i], \n",
    "                                        valid_X = valid_X, \n",
    "                                        valid_y = valid_y)\n",
    "    post_valid_models.append(best_clf)"
   ]
  },
  {
   "cell_type": "markdown",
   "metadata": {},
   "source": [
    "Training and Predicting"
   ]
  },
  {
   "cell_type": "code",
   "execution_count": 8,
   "metadata": {},
   "outputs": [],
   "source": [
    "query_X = X_query.select_dtypes(include='number').drop(\"ID\", axis = 1)\n",
    "query_y = y_query\n",
    "\n",
    "train_X = X_train.select_dtypes(include='number').drop(\"ID\", axis = 1)\n",
    "train_y = y_train"
   ]
  },
  {
   "cell_type": "code",
   "execution_count": 9,
   "metadata": {},
   "outputs": [
    {
     "name": "stdout",
     "output_type": "stream",
     "text": [
      "<class 'pandas.core.frame.DataFrame'>\n",
      "Index: 120329 entries, 0 to 185831\n",
      "Data columns (total 14 columns):\n",
      " #   Column                          Non-Null Count   Dtype  \n",
      "---  ------                          --------------   -----  \n",
      " 0   adp_dist                        120329 non-null  float64\n",
      " 1   post_skeletal_distance_to_soma  120329 non-null  float64\n",
      " 2   pre_skeletal_distance_to_soma   120329 non-null  float64\n",
      " 3   pre_oracle                      120329 non-null  float64\n",
      " 4   pre_test_score                  120329 non-null  float64\n",
      " 5   post_oracle                     120329 non-null  float64\n",
      " 6   post_test_score                 120329 non-null  float64\n",
      " 7   pre_nucleus_id                  120329 non-null  int64  \n",
      " 8   post_nucleus_id                 120329 non-null  int64  \n",
      " 9   fw_similarity                   120329 non-null  float64\n",
      " 10  nuclei_adp_dist                 120329 non-null  float64\n",
      " 11  ADP_total                       120329 non-null  float64\n",
      " 12  connect_total                   120329 non-null  float64\n",
      " 13  connect_rate                    120329 non-null  float64\n",
      "dtypes: float64(12), int64(2)\n",
      "memory usage: 13.8 MB\n"
     ]
    }
   ],
   "source": [
    "train_X.info()"
   ]
  },
  {
   "cell_type": "code",
   "execution_count": 10,
   "metadata": {},
   "outputs": [],
   "source": [
    "\"\"\"\n",
    "    Function that takes in a dataframe of data and outputs \n",
    "    a fitted \"optimal\" model\n",
    "\n",
    "    Inputs:\n",
    "    - train: training set\n",
    "    - query: query set\n",
    "    - models: dictionary of (model_name : model function) to train and predict on, with optimized \n",
    "    parameters already.\n",
    "\n",
    "    Outputs:\n",
    "    - best_clf: The optimum classifier function fitted over training data\n",
    "\n",
    "    - accuracy_score: list of accuracies based on order of models\n",
    "    passed.\n",
    "    \"\"\"\n",
    "\n",
    "models = {\"random forest\": post_valid_models[0], \"lda\": post_valid_models[1]}\n",
    "accuracy_score, best_clf = train_n_predict(train_X, train_y, query_X, query_y, models)"
   ]
  },
  {
   "cell_type": "code",
   "execution_count": null,
   "metadata": {},
   "outputs": [],
   "source": [
    "leaderboard_path = \"../Data/leaderboard_data.csv\"\n",
    "sub_data = cleaner(train_path, feature_path, morph_path, submission = True)"
   ]
  },
  {
   "cell_type": "code",
   "execution_count": null,
   "metadata": {},
   "outputs": [],
   "source": [
    "lb_data = sub_data.select_dtypes(include='number')"
   ]
  },
  {
   "cell_type": "code",
   "execution_count": null,
   "metadata": {},
   "outputs": [],
   "source": [
    "connect_info = data[[\"ID\",\"ADP_total\", \"connect_total\",\"connect_rate\"]]\n",
    "lb_data = lb_data.merge(connect_info, left_on=\"ID\", right_on=\"ID\")\n",
    "lb_data.info()"
   ]
  },
  {
   "cell_type": "code",
   "execution_count": null,
   "metadata": {},
   "outputs": [],
   "source": [
    "#create a boolean prediction solution\n",
    "lb_data[\"connected\"] = best_clf.predict(lb_data.drop(\"ID\", axis = 1))"
   ]
  },
  {
   "cell_type": "code",
   "execution_count": null,
   "metadata": {},
   "outputs": [],
   "source": [
    "submission_data = lb_data.filter(['ID','connected'])"
   ]
  },
  {
   "cell_type": "code",
   "execution_count": null,
   "metadata": {},
   "outputs": [],
   "source": [
    "submission_data.to_csv('submission_data.csv',index=False)"
   ]
  }
 ],
 "metadata": {
  "kernelspec": {
   "display_name": "Python 3",
   "language": "python",
   "name": "python3"
  },
  "language_info": {
   "codemirror_mode": {
    "name": "ipython",
    "version": 3
   },
   "file_extension": ".py",
   "mimetype": "text/x-python",
   "name": "python",
   "nbconvert_exporter": "python",
   "pygments_lexer": "ipython3",
   "version": "3.11.5"
  }
 },
 "nbformat": 4,
 "nbformat_minor": 2
}
