{
 "cells": [
  {
   "cell_type": "code",
   "execution_count": 101,
   "metadata": {},
   "outputs": [],
   "source": [
    "import sys\n",
    "import numpy as np\n",
    "import pandas as pd\n",
    "import numpy as np\n",
    "import matplotlib.pyplot as plt\n",
    "import seaborn as sns\n",
    "from tqdm import tqdm\n",
    "from sklearn.model_selection import KFold\n",
    "from sklearn.preprocessing import StandardScaler\n",
    "from sklearn.pipeline import Pipeline\n",
    "from sklearn.model_selection import GridSearchCV\n",
    "from sklearn.metrics import balanced_accuracy_score, make_scorer\n",
    "from imblearn.over_sampling import RandomOverSampler\n",
    "from sklearn import model_selection\n",
    "from sklearn.svm import SVC\n",
    "from sklearn.cluster import SpectralClustering\n",
    "\n",
    "\n",
    "#Models\n",
    "from sklearn.ensemble import RandomForestClassifier\n",
    "from sklearn.discriminant_analysis import LinearDiscriminantAnalysis\n",
    "\n",
    "sys.path.insert(0, '/Users/gracewang/Documents/GitHub/elecfinal')\n",
    "sys.path.insert(0, 'D:\\Fall23 Coursework\\ELEC478\\Competition\\elecfinal')"
   ]
  },
  {
   "cell_type": "code",
   "execution_count": 102,
   "metadata": {},
   "outputs": [],
   "source": [
    "from ml_pipeline import train_n_predict, validation, clean_split"
   ]
  },
  {
   "cell_type": "code",
   "execution_count": 103,
   "metadata": {},
   "outputs": [],
   "source": [
    "from Data.data_cleaner import cleaner"
   ]
  },
  {
   "cell_type": "code",
   "execution_count": 104,
   "metadata": {},
   "outputs": [],
   "source": [
    "## Clean data\n",
    "train_path = \"../Data/train_data.csv\"\n",
    "feature_path = \"../Data/feature_weights.csv\"\n",
    "morph_path = \"../Data/imputed_morph_embed.csv\"\n",
    "X_train, X_val, X_query, y_train, y_val, y_query = clean_split(train_path, feature_path, morph_path)"
   ]
  },
  {
   "cell_type": "code",
   "execution_count": 79,
   "metadata": {},
   "outputs": [
    {
     "data": {
      "text/plain": [
       "Index(['ID', 'adp_dist', 'post_skeletal_distance_to_soma',\n",
       "       'pre_skeletal_distance_to_soma', 'pre_oracle', 'pre_test_score',\n",
       "       'post_oracle', 'post_test_score', 'compartment', 'pre_brain_area',\n",
       "       'post_brain_area', 'post_nucleus_x', 'post_nucleus_y', 'post_nucleus_z',\n",
       "       'pre_nucleus_id', 'post_nucleus_id', 'pre_feature_weights',\n",
       "       'post_feature_weights', 'pre_morph_embeddings', 'post_morph_embeddings',\n",
       "       'me_similarity', 'fw_similarity', 'projection_group', 'axonal_coords',\n",
       "       'dendritic_coords', 'pre_rf_coords', 'post_rf_coords',\n",
       "       'pre_nucleus_coords', 'nuclei_adp_dist'],\n",
       "      dtype='object')"
      ]
     },
     "execution_count": 79,
     "metadata": {},
     "output_type": "execute_result"
    }
   ],
   "source": [
    "X_train.columns"
   ]
  },
  {
   "cell_type": "markdown",
   "metadata": {},
   "source": [
    "# Select Feature Weights"
   ]
  },
  {
   "cell_type": "code",
   "execution_count": 105,
   "metadata": {},
   "outputs": [],
   "source": [
    "feature_weights = pd.read_csv(feature_path)\n",
    "X_train_fw = feature_weights.merge(X_train['pre_nucleus_id'], right_on ='pre_nucleus_id', left_on='nucleus_id')"
   ]
  },
  {
   "cell_type": "code",
   "execution_count": null,
   "metadata": {},
   "outputs": [],
   "source": [
    "from sklearn.ensemble import RandomForestClassifier\n",
    "from collections import defaultdict\n",
    "\n",
    "feature_counts = defaultdict(int)\n",
    "for rep in range(50):\n",
    "    model = RandomForestClassifier(n_estimators=500)\n",
    "\n",
    "    model.fit(X_train_fw.drop(columns=['pre_nucleus_id', 'nucleus_id']), y_train)\n",
    "\n",
    "    importances = model.feature_importances_\n",
    "    imp_df = pd.DataFrame({\"Features\":X_train_fw.drop(columns=['pre_nucleus_id', 'nucleus_id']).columns, \"Importance\":importances})\n",
    "\n",
    "    imp_df = imp_df.sort_values('Importance', ascending=False)\n",
    "    for feature in imp_df['Features'][0:5]:\n",
    "        feature_counts[feature]+=1"
   ]
  },
  {
   "cell_type": "code",
   "execution_count": null,
   "metadata": {},
   "outputs": [],
   "source": [
    "feature_counts"
   ]
  },
  {
   "cell_type": "code",
   "execution_count": 106,
   "metadata": {},
   "outputs": [
    {
     "data": {
      "text/html": [
       "<div>\n",
       "<style scoped>\n",
       "    .dataframe tbody tr th:only-of-type {\n",
       "        vertical-align: middle;\n",
       "    }\n",
       "\n",
       "    .dataframe tbody tr th {\n",
       "        vertical-align: top;\n",
       "    }\n",
       "\n",
       "    .dataframe thead th {\n",
       "        text-align: right;\n",
       "    }\n",
       "</style>\n",
       "<table border=\"1\" class=\"dataframe\">\n",
       "  <thead>\n",
       "    <tr style=\"text-align: right;\">\n",
       "      <th></th>\n",
       "      <th>nucleus_id</th>\n",
       "      <th>feature_weight_330</th>\n",
       "      <th>feature_weight_328</th>\n",
       "      <th>ID</th>\n",
       "      <th>adp_dist</th>\n",
       "      <th>post_skeletal_distance_to_soma</th>\n",
       "      <th>pre_skeletal_distance_to_soma</th>\n",
       "      <th>pre_oracle</th>\n",
       "      <th>pre_test_score</th>\n",
       "      <th>post_oracle</th>\n",
       "      <th>...</th>\n",
       "      <th>post_morph_embeddings</th>\n",
       "      <th>me_similarity</th>\n",
       "      <th>fw_similarity</th>\n",
       "      <th>projection_group</th>\n",
       "      <th>axonal_coords</th>\n",
       "      <th>dendritic_coords</th>\n",
       "      <th>pre_rf_coords</th>\n",
       "      <th>post_rf_coords</th>\n",
       "      <th>pre_nucleus_coords</th>\n",
       "      <th>nuclei_adp_dist</th>\n",
       "    </tr>\n",
       "  </thead>\n",
       "  <tbody>\n",
       "    <tr>\n",
       "      <th>0</th>\n",
       "      <td>582129</td>\n",
       "      <td>-0.206426</td>\n",
       "      <td>0.211415</td>\n",
       "      <td>48656</td>\n",
       "      <td>-1.383514</td>\n",
       "      <td>1.328283</td>\n",
       "      <td>-0.607981</td>\n",
       "      <td>-1.553935</td>\n",
       "      <td>-0.362281</td>\n",
       "      <td>1.191761</td>\n",
       "      <td>...</td>\n",
       "      <td>[1.0723994970321655, -0.7540942430496216, 0.11...</td>\n",
       "      <td>1.077231</td>\n",
       "      <td>-1.065146</td>\n",
       "      <td>AL-&gt;RL</td>\n",
       "      <td>[1265270, 450597, 920661]</td>\n",
       "      <td>[1265640, 450398, 920262]</td>\n",
       "      <td>[855.0040316581726, 544.8585534095764]</td>\n",
       "      <td>[858.5207009315491, 608.4342455863953]</td>\n",
       "      <td>[1311616, 473664, 757880]</td>\n",
       "      <td>-0.348809</td>\n",
       "    </tr>\n",
       "    <tr>\n",
       "      <th>1</th>\n",
       "      <td>582129</td>\n",
       "      <td>-0.206426</td>\n",
       "      <td>0.211415</td>\n",
       "      <td>48657</td>\n",
       "      <td>-1.355662</td>\n",
       "      <td>1.538367</td>\n",
       "      <td>-0.673488</td>\n",
       "      <td>-1.553935</td>\n",
       "      <td>-0.362281</td>\n",
       "      <td>1.191761</td>\n",
       "      <td>...</td>\n",
       "      <td>[1.0723994970321655, -0.7540942430496216, 0.11...</td>\n",
       "      <td>1.077231</td>\n",
       "      <td>-1.065146</td>\n",
       "      <td>AL-&gt;RL</td>\n",
       "      <td>[1230790, 692832, 844011]</td>\n",
       "      <td>[1231270, 692894, 844399]</td>\n",
       "      <td>[855.0040316581726, 544.8585534095764]</td>\n",
       "      <td>[858.5207009315491, 608.4342455863953]</td>\n",
       "      <td>[1311616, 473664, 757880]</td>\n",
       "      <td>0.128893</td>\n",
       "    </tr>\n",
       "    <tr>\n",
       "      <th>2</th>\n",
       "      <td>582129</td>\n",
       "      <td>-0.206426</td>\n",
       "      <td>0.211415</td>\n",
       "      <td>48658</td>\n",
       "      <td>0.476569</td>\n",
       "      <td>2.996159</td>\n",
       "      <td>-0.845149</td>\n",
       "      <td>-1.553935</td>\n",
       "      <td>-0.362281</td>\n",
       "      <td>1.191761</td>\n",
       "      <td>...</td>\n",
       "      <td>[1.0723994970321655, -0.7540942430496216, 0.11...</td>\n",
       "      <td>1.077231</td>\n",
       "      <td>-1.065146</td>\n",
       "      <td>AL-&gt;RL</td>\n",
       "      <td>[1300030, 524790, 861672]</td>\n",
       "      <td>[1301040, 521794, 860782]</td>\n",
       "      <td>[855.0040316581726, 544.8585534095764]</td>\n",
       "      <td>[858.5207009315491, 608.4342455863953]</td>\n",
       "      <td>[1311616, 473664, 757880]</td>\n",
       "      <td>-0.682142</td>\n",
       "    </tr>\n",
       "    <tr>\n",
       "      <th>3</th>\n",
       "      <td>582129</td>\n",
       "      <td>-0.206426</td>\n",
       "      <td>0.211415</td>\n",
       "      <td>48659</td>\n",
       "      <td>0.896940</td>\n",
       "      <td>-0.705250</td>\n",
       "      <td>-0.631973</td>\n",
       "      <td>-1.553935</td>\n",
       "      <td>-0.362281</td>\n",
       "      <td>1.191761</td>\n",
       "      <td>...</td>\n",
       "      <td>[1.0723994970321655, -0.7540942430496216, 0.11...</td>\n",
       "      <td>1.077231</td>\n",
       "      <td>-1.065146</td>\n",
       "      <td>AL-&gt;RL</td>\n",
       "      <td>[1190930, 458724, 919590]</td>\n",
       "      <td>[1192510, 455252, 918028]</td>\n",
       "      <td>[855.0040316581726, 544.8585534095764]</td>\n",
       "      <td>[858.5207009315491, 608.4342455863953]</td>\n",
       "      <td>[1311616, 473664, 757880]</td>\n",
       "      <td>-0.156166</td>\n",
       "    </tr>\n",
       "    <tr>\n",
       "      <th>4</th>\n",
       "      <td>582129</td>\n",
       "      <td>-0.206426</td>\n",
       "      <td>0.211415</td>\n",
       "      <td>48660</td>\n",
       "      <td>1.110236</td>\n",
       "      <td>2.716134</td>\n",
       "      <td>-0.858720</td>\n",
       "      <td>-1.553935</td>\n",
       "      <td>-0.362281</td>\n",
       "      <td>1.191761</td>\n",
       "      <td>...</td>\n",
       "      <td>[1.0723994970321655, -0.7540942430496216, 0.11...</td>\n",
       "      <td>1.077231</td>\n",
       "      <td>-1.065146</td>\n",
       "      <td>AL-&gt;RL</td>\n",
       "      <td>[1280940, 662046, 800268]</td>\n",
       "      <td>[1282930, 660720, 803718]</td>\n",
       "      <td>[855.0040316581726, 544.8585534095764]</td>\n",
       "      <td>[858.5207009315491, 608.4342455863953]</td>\n",
       "      <td>[1311616, 473664, 757880]</td>\n",
       "      <td>-0.197845</td>\n",
       "    </tr>\n",
       "    <tr>\n",
       "      <th>...</th>\n",
       "      <td>...</td>\n",
       "      <td>...</td>\n",
       "      <td>...</td>\n",
       "      <td>...</td>\n",
       "      <td>...</td>\n",
       "      <td>...</td>\n",
       "      <td>...</td>\n",
       "      <td>...</td>\n",
       "      <td>...</td>\n",
       "      <td>...</td>\n",
       "      <td>...</td>\n",
       "      <td>...</td>\n",
       "      <td>...</td>\n",
       "      <td>...</td>\n",
       "      <td>...</td>\n",
       "      <td>...</td>\n",
       "      <td>...</td>\n",
       "      <td>...</td>\n",
       "      <td>...</td>\n",
       "      <td>...</td>\n",
       "      <td>...</td>\n",
       "    </tr>\n",
       "    <tr>\n",
       "      <th>118898</th>\n",
       "      <td>294858</td>\n",
       "      <td>-0.383717</td>\n",
       "      <td>-0.206139</td>\n",
       "      <td>224656</td>\n",
       "      <td>-1.153476</td>\n",
       "      <td>0.399766</td>\n",
       "      <td>-0.718692</td>\n",
       "      <td>0.577790</td>\n",
       "      <td>-0.460852</td>\n",
       "      <td>-0.024162</td>\n",
       "      <td>...</td>\n",
       "      <td>[1.4674314260482788, 0.6272068619728088, 0.410...</td>\n",
       "      <td>0.278531</td>\n",
       "      <td>-0.033703</td>\n",
       "      <td>V1-&gt;V1</td>\n",
       "      <td>[815199, 840966, 936012]</td>\n",
       "      <td>[815423, 841222, 936912]</td>\n",
       "      <td>[831.2186741828918, 560.7675075531006]</td>\n",
       "      <td>[894.7975826263428, 590.8018326759338]</td>\n",
       "      <td>[770240, 531136, 920360]</td>\n",
       "      <td>0.523107</td>\n",
       "    </tr>\n",
       "    <tr>\n",
       "      <th>118899</th>\n",
       "      <td>294858</td>\n",
       "      <td>-0.383717</td>\n",
       "      <td>-0.206139</td>\n",
       "      <td>224657</td>\n",
       "      <td>-0.241583</td>\n",
       "      <td>-0.349050</td>\n",
       "      <td>-1.047622</td>\n",
       "      <td>0.577790</td>\n",
       "      <td>-0.460852</td>\n",
       "      <td>-0.024162</td>\n",
       "      <td>...</td>\n",
       "      <td>[1.4674314260482788, 0.6272068619728088, 0.410...</td>\n",
       "      <td>0.278531</td>\n",
       "      <td>-0.033703</td>\n",
       "      <td>V1-&gt;V1</td>\n",
       "      <td>[781179, 711648, 913773]</td>\n",
       "      <td>[781156, 713918, 914591]</td>\n",
       "      <td>[831.2186741828918, 560.7675075531006]</td>\n",
       "      <td>[894.7975826263428, 590.8018326759338]</td>\n",
       "      <td>[770240, 531136, 920360]</td>\n",
       "      <td>-0.286781</td>\n",
       "    </tr>\n",
       "    <tr>\n",
       "      <th>118900</th>\n",
       "      <td>294858</td>\n",
       "      <td>-0.383717</td>\n",
       "      <td>-0.206139</td>\n",
       "      <td>224658</td>\n",
       "      <td>0.554607</td>\n",
       "      <td>-0.541337</td>\n",
       "      <td>-0.882155</td>\n",
       "      <td>0.577790</td>\n",
       "      <td>-0.460852</td>\n",
       "      <td>-0.024162</td>\n",
       "      <td>...</td>\n",
       "      <td>[1.4674314260482788, 0.6272068619728088, 0.410...</td>\n",
       "      <td>0.278531</td>\n",
       "      <td>-0.033703</td>\n",
       "      <td>V1-&gt;V1</td>\n",
       "      <td>[792729, 700644, 853209]</td>\n",
       "      <td>[796175, 699876, 854748]</td>\n",
       "      <td>[831.2186741828918, 560.7675075531006]</td>\n",
       "      <td>[894.7975826263428, 590.8018326759338]</td>\n",
       "      <td>[770240, 531136, 920360]</td>\n",
       "      <td>-0.270014</td>\n",
       "    </tr>\n",
       "    <tr>\n",
       "      <th>118901</th>\n",
       "      <td>294858</td>\n",
       "      <td>-0.383717</td>\n",
       "      <td>-0.206139</td>\n",
       "      <td>224659</td>\n",
       "      <td>1.086661</td>\n",
       "      <td>-0.653431</td>\n",
       "      <td>-0.854285</td>\n",
       "      <td>0.577790</td>\n",
       "      <td>-0.460852</td>\n",
       "      <td>-0.024162</td>\n",
       "      <td>...</td>\n",
       "      <td>[1.4674314260482788, 0.6272068619728088, 0.410...</td>\n",
       "      <td>0.278531</td>\n",
       "      <td>-0.033703</td>\n",
       "      <td>V1-&gt;V1</td>\n",
       "      <td>[790671, 741048, 834960]</td>\n",
       "      <td>[789421, 744192, 837710]</td>\n",
       "      <td>[831.2186741828918, 560.7675075531006]</td>\n",
       "      <td>[894.7975826263428, 590.8018326759338]</td>\n",
       "      <td>[770240, 531136, 920360]</td>\n",
       "      <td>-0.002103</td>\n",
       "    </tr>\n",
       "    <tr>\n",
       "      <th>118902</th>\n",
       "      <td>294858</td>\n",
       "      <td>-0.383717</td>\n",
       "      <td>-0.206139</td>\n",
       "      <td>224660</td>\n",
       "      <td>1.087260</td>\n",
       "      <td>-0.656717</td>\n",
       "      <td>-0.918550</td>\n",
       "      <td>0.577790</td>\n",
       "      <td>-0.460852</td>\n",
       "      <td>-0.024162</td>\n",
       "      <td>...</td>\n",
       "      <td>[1.4674314260482788, 0.6272068619728088, 0.410...</td>\n",
       "      <td>0.278531</td>\n",
       "      <td>-0.033703</td>\n",
       "      <td>V1-&gt;V1</td>\n",
       "      <td>[798126, 711774, 859950]</td>\n",
       "      <td>[802176, 710250, 858198]</td>\n",
       "      <td>[831.2186741828918, 560.7675075531006]</td>\n",
       "      <td>[894.7975826263428, 590.8018326759338]</td>\n",
       "      <td>[770240, 531136, 920360]</td>\n",
       "      <td>-0.216251</td>\n",
       "    </tr>\n",
       "  </tbody>\n",
       "</table>\n",
       "<p>118903 rows × 32 columns</p>\n",
       "</div>"
      ],
      "text/plain": [
       "        nucleus_id  feature_weight_330  feature_weight_328      ID  adp_dist  \\\n",
       "0           582129           -0.206426            0.211415   48656 -1.383514   \n",
       "1           582129           -0.206426            0.211415   48657 -1.355662   \n",
       "2           582129           -0.206426            0.211415   48658  0.476569   \n",
       "3           582129           -0.206426            0.211415   48659  0.896940   \n",
       "4           582129           -0.206426            0.211415   48660  1.110236   \n",
       "...            ...                 ...                 ...     ...       ...   \n",
       "118898      294858           -0.383717           -0.206139  224656 -1.153476   \n",
       "118899      294858           -0.383717           -0.206139  224657 -0.241583   \n",
       "118900      294858           -0.383717           -0.206139  224658  0.554607   \n",
       "118901      294858           -0.383717           -0.206139  224659  1.086661   \n",
       "118902      294858           -0.383717           -0.206139  224660  1.087260   \n",
       "\n",
       "        post_skeletal_distance_to_soma  pre_skeletal_distance_to_soma  \\\n",
       "0                             1.328283                      -0.607981   \n",
       "1                             1.538367                      -0.673488   \n",
       "2                             2.996159                      -0.845149   \n",
       "3                            -0.705250                      -0.631973   \n",
       "4                             2.716134                      -0.858720   \n",
       "...                                ...                            ...   \n",
       "118898                        0.399766                      -0.718692   \n",
       "118899                       -0.349050                      -1.047622   \n",
       "118900                       -0.541337                      -0.882155   \n",
       "118901                       -0.653431                      -0.854285   \n",
       "118902                       -0.656717                      -0.918550   \n",
       "\n",
       "        pre_oracle  pre_test_score  post_oracle  ...  \\\n",
       "0        -1.553935       -0.362281     1.191761  ...   \n",
       "1        -1.553935       -0.362281     1.191761  ...   \n",
       "2        -1.553935       -0.362281     1.191761  ...   \n",
       "3        -1.553935       -0.362281     1.191761  ...   \n",
       "4        -1.553935       -0.362281     1.191761  ...   \n",
       "...            ...             ...          ...  ...   \n",
       "118898    0.577790       -0.460852    -0.024162  ...   \n",
       "118899    0.577790       -0.460852    -0.024162  ...   \n",
       "118900    0.577790       -0.460852    -0.024162  ...   \n",
       "118901    0.577790       -0.460852    -0.024162  ...   \n",
       "118902    0.577790       -0.460852    -0.024162  ...   \n",
       "\n",
       "                                    post_morph_embeddings me_similarity  \\\n",
       "0       [1.0723994970321655, -0.7540942430496216, 0.11...      1.077231   \n",
       "1       [1.0723994970321655, -0.7540942430496216, 0.11...      1.077231   \n",
       "2       [1.0723994970321655, -0.7540942430496216, 0.11...      1.077231   \n",
       "3       [1.0723994970321655, -0.7540942430496216, 0.11...      1.077231   \n",
       "4       [1.0723994970321655, -0.7540942430496216, 0.11...      1.077231   \n",
       "...                                                   ...           ...   \n",
       "118898  [1.4674314260482788, 0.6272068619728088, 0.410...      0.278531   \n",
       "118899  [1.4674314260482788, 0.6272068619728088, 0.410...      0.278531   \n",
       "118900  [1.4674314260482788, 0.6272068619728088, 0.410...      0.278531   \n",
       "118901  [1.4674314260482788, 0.6272068619728088, 0.410...      0.278531   \n",
       "118902  [1.4674314260482788, 0.6272068619728088, 0.410...      0.278531   \n",
       "\n",
       "       fw_similarity projection_group              axonal_coords  \\\n",
       "0          -1.065146           AL->RL  [1265270, 450597, 920661]   \n",
       "1          -1.065146           AL->RL  [1230790, 692832, 844011]   \n",
       "2          -1.065146           AL->RL  [1300030, 524790, 861672]   \n",
       "3          -1.065146           AL->RL  [1190930, 458724, 919590]   \n",
       "4          -1.065146           AL->RL  [1280940, 662046, 800268]   \n",
       "...              ...              ...                        ...   \n",
       "118898     -0.033703           V1->V1   [815199, 840966, 936012]   \n",
       "118899     -0.033703           V1->V1   [781179, 711648, 913773]   \n",
       "118900     -0.033703           V1->V1   [792729, 700644, 853209]   \n",
       "118901     -0.033703           V1->V1   [790671, 741048, 834960]   \n",
       "118902     -0.033703           V1->V1   [798126, 711774, 859950]   \n",
       "\n",
       "                 dendritic_coords                           pre_rf_coords  \\\n",
       "0       [1265640, 450398, 920262]  [855.0040316581726, 544.8585534095764]   \n",
       "1       [1231270, 692894, 844399]  [855.0040316581726, 544.8585534095764]   \n",
       "2       [1301040, 521794, 860782]  [855.0040316581726, 544.8585534095764]   \n",
       "3       [1192510, 455252, 918028]  [855.0040316581726, 544.8585534095764]   \n",
       "4       [1282930, 660720, 803718]  [855.0040316581726, 544.8585534095764]   \n",
       "...                           ...                                     ...   \n",
       "118898   [815423, 841222, 936912]  [831.2186741828918, 560.7675075531006]   \n",
       "118899   [781156, 713918, 914591]  [831.2186741828918, 560.7675075531006]   \n",
       "118900   [796175, 699876, 854748]  [831.2186741828918, 560.7675075531006]   \n",
       "118901   [789421, 744192, 837710]  [831.2186741828918, 560.7675075531006]   \n",
       "118902   [802176, 710250, 858198]  [831.2186741828918, 560.7675075531006]   \n",
       "\n",
       "                                post_rf_coords         pre_nucleus_coords  \\\n",
       "0       [858.5207009315491, 608.4342455863953]  [1311616, 473664, 757880]   \n",
       "1       [858.5207009315491, 608.4342455863953]  [1311616, 473664, 757880]   \n",
       "2       [858.5207009315491, 608.4342455863953]  [1311616, 473664, 757880]   \n",
       "3       [858.5207009315491, 608.4342455863953]  [1311616, 473664, 757880]   \n",
       "4       [858.5207009315491, 608.4342455863953]  [1311616, 473664, 757880]   \n",
       "...                                        ...                        ...   \n",
       "118898  [894.7975826263428, 590.8018326759338]   [770240, 531136, 920360]   \n",
       "118899  [894.7975826263428, 590.8018326759338]   [770240, 531136, 920360]   \n",
       "118900  [894.7975826263428, 590.8018326759338]   [770240, 531136, 920360]   \n",
       "118901  [894.7975826263428, 590.8018326759338]   [770240, 531136, 920360]   \n",
       "118902  [894.7975826263428, 590.8018326759338]   [770240, 531136, 920360]   \n",
       "\n",
       "       nuclei_adp_dist  \n",
       "0            -0.348809  \n",
       "1             0.128893  \n",
       "2            -0.682142  \n",
       "3            -0.156166  \n",
       "4            -0.197845  \n",
       "...                ...  \n",
       "118898        0.523107  \n",
       "118899       -0.286781  \n",
       "118900       -0.270014  \n",
       "118901       -0.002103  \n",
       "118902       -0.216251  \n",
       "\n",
       "[118903 rows x 32 columns]"
      ]
     },
     "execution_count": 106,
     "metadata": {},
     "output_type": "execute_result"
    }
   ],
   "source": [
    "keep_fw = feature_weights[[\"nucleus_id\", \"feature_weight_330\", 'feature_weight_328']]\n",
    "X_train = keep_fw.merge(X_train, left_on='nucleus_id', right_on='pre_nucleus_id')\n",
    "X_train\n"
   ]
  },
  {
   "cell_type": "code",
   "execution_count": 58,
   "metadata": {},
   "outputs": [
    {
     "name": "stderr",
     "output_type": "stream",
     "text": [
      "/Library/Frameworks/Python.framework/Versions/3.11/lib/python3.11/site-packages/seaborn/_oldcore.py:1498: FutureWarning: is_categorical_dtype is deprecated and will be removed in a future version. Use isinstance(dtype, CategoricalDtype) instead\n",
      "  if pd.api.types.is_categorical_dtype(vector):\n",
      "/Library/Frameworks/Python.framework/Versions/3.11/lib/python3.11/site-packages/seaborn/_oldcore.py:1498: FutureWarning: is_categorical_dtype is deprecated and will be removed in a future version. Use isinstance(dtype, CategoricalDtype) instead\n",
      "  if pd.api.types.is_categorical_dtype(vector):\n",
      "/Library/Frameworks/Python.framework/Versions/3.11/lib/python3.11/site-packages/seaborn/_oldcore.py:1498: FutureWarning: is_categorical_dtype is deprecated and will be removed in a future version. Use isinstance(dtype, CategoricalDtype) instead\n",
      "  if pd.api.types.is_categorical_dtype(vector):\n",
      "/Library/Frameworks/Python.framework/Versions/3.11/lib/python3.11/site-packages/seaborn/_oldcore.py:1498: FutureWarning: is_categorical_dtype is deprecated and will be removed in a future version. Use isinstance(dtype, CategoricalDtype) instead\n",
      "  if pd.api.types.is_categorical_dtype(vector):\n",
      "/Library/Frameworks/Python.framework/Versions/3.11/lib/python3.11/site-packages/seaborn/_oldcore.py:1498: FutureWarning: is_categorical_dtype is deprecated and will be removed in a future version. Use isinstance(dtype, CategoricalDtype) instead\n",
      "  if pd.api.types.is_categorical_dtype(vector):\n",
      "/Library/Frameworks/Python.framework/Versions/3.11/lib/python3.11/site-packages/seaborn/categorical.py:1794: FutureWarning: use_inf_as_na option is deprecated and will be removed in a future version. Convert inf values to NaN before operating instead.\n",
      "  with pd.option_context('mode.use_inf_as_na', True):\n",
      "/Library/Frameworks/Python.framework/Versions/3.11/lib/python3.11/site-packages/seaborn/categorical.py:1794: FutureWarning: use_inf_as_na option is deprecated and will be removed in a future version. Convert inf values to NaN before operating instead.\n",
      "  with pd.option_context('mode.use_inf_as_na', True):\n"
     ]
    },
    {
     "data": {
      "text/plain": [
       "<seaborn.axisgrid.FacetGrid at 0x312126c90>"
      ]
     },
     "execution_count": 58,
     "metadata": {},
     "output_type": "execute_result"
    },
    {
     "data": {
      "image/png": "[encoded data removed]",
      "text/plain": [
       "<Figure size 500x500 with 1 Axes>"
      ]
     },
     "metadata": {},
     "output_type": "display_data"
    }
   ],
   "source": [
    "final = X_train\n",
    "final['connected']=y_train\n",
    "sns.catplot(x='connected', y='feature_weight_328', data=final, kind='boxen')"
   ]
  },
  {
   "cell_type": "markdown",
   "metadata": {},
   "source": [
    "## One-Hot Encoding of Compartment"
   ]
  },
  {
   "cell_type": "code",
   "execution_count": 107,
   "metadata": {},
   "outputs": [
    {
     "data": {
      "text/plain": [
       "array(['axon', 'apical_tuft', 'basal', 'apical', 'oblique',\n",
       "       'apical_shaft', 'soma'], dtype=object)"
      ]
     },
     "execution_count": 107,
     "metadata": {},
     "output_type": "execute_result"
    }
   ],
   "source": [
    "# different compartments\n",
    "pd.unique(X_train[\"compartment\"])"
   ]
  },
  {
   "cell_type": "code",
   "execution_count": 108,
   "metadata": {},
   "outputs": [],
   "source": [
    "area1 = [\"basal\", \"soma\"]\n",
    "area2 = [\"axon\", \"apical\", \"oblique\", \"apical_shaft\"]\n",
    "area3 = [\"apical_tuft\"]\n",
    "\n",
    "def area_cols(df):\n",
    "    df[\"area1\"] = df[\"compartment\"].isin(area1).astype('int')\n",
    "    df[\"area2\"] = df[\"compartment\"].isin(area2).astype('int')\n",
    "    df[\"area3\"] = df[\"compartment\"].isin(area3).astype('int')\n",
    "    return df\n"
   ]
  },
  {
   "cell_type": "code",
   "execution_count": 109,
   "metadata": {},
   "outputs": [],
   "source": [
    "X_train = area_cols(X_train)\n",
    "X_val = area_cols(X_val)\n",
    "X_query = area_cols(X_query)"
   ]
  },
  {
   "cell_type": "code",
   "execution_count": 113,
   "metadata": {},
   "outputs": [
    {
     "data": {
      "text/plain": [
       "0         AL\n",
       "1         AL\n",
       "2         AL\n",
       "3         AL\n",
       "4         AL\n",
       "          ..\n",
       "118898    V1\n",
       "118899    V1\n",
       "118900    V1\n",
       "118901    V1\n",
       "118902    V1\n",
       "Name: pre_brain_area, Length: 118903, dtype: object"
      ]
     },
     "execution_count": 113,
     "metadata": {},
     "output_type": "execute_result"
    }
   ],
   "source": [
    "X_train['pre_brain_area']"
   ]
  },
  {
   "cell_type": "markdown",
   "metadata": {},
   "source": [
    "# One-Hot Encoding of all Categorical Features"
   ]
  },
  {
   "cell_type": "code",
   "execution_count": 114,
   "metadata": {},
   "outputs": [],
   "source": [
    "def one_hot(column, df, suffix=''):\n",
    "    \"\"\"\n",
    "    one-hot encodes this shit\n",
    "    \"\"\"\n",
    "    cats = pd.unique(df[column])\n",
    "\n",
    "    for cat in cats:\n",
    "        new_col = cat+suffix\n",
    "        df[new_col] = df[column]==cat\n",
    "        df[new_col] = df[new_col].astype('int')\n",
    "    \n",
    "    df = df.drop(columns=column)\n",
    "    return df"
   ]
  },
  {
   "cell_type": "code",
   "execution_count": 122,
   "metadata": {},
   "outputs": [],
   "source": [
    "X_train_1hot = one_hot('pre_brain_area', X_train, '_pre')\n",
    "X_train_1hot = one_hot('post_brain_area', X_train_1hot, '_post')\n",
    "X_train_1hot = one_hot('projection_group', X_train_1hot)"
   ]
  },
  {
   "cell_type": "code",
   "execution_count": 123,
   "metadata": {},
   "outputs": [],
   "source": [
    "X_train_1hot = X_train_1hot.drop(columns='compartment')"
   ]
  },
  {
   "cell_type": "code",
   "execution_count": 124,
   "metadata": {},
   "outputs": [
    {
     "data": {
      "text/plain": [
       "nucleus_id                          int64\n",
       "feature_weight_330                float64\n",
       "feature_weight_328                float64\n",
       "ID                                  int64\n",
       "adp_dist                          float64\n",
       "post_skeletal_distance_to_soma    float64\n",
       "pre_skeletal_distance_to_soma     float64\n",
       "pre_oracle                        float64\n",
       "pre_test_score                    float64\n",
       "post_oracle                       float64\n",
       "post_test_score                   float64\n",
       "post_nucleus_x                    float64\n",
       "post_nucleus_y                    float64\n",
       "post_nucleus_z                    float64\n",
       "pre_nucleus_id                      int64\n",
       "post_nucleus_id                     int64\n",
       "pre_feature_weights                object\n",
       "post_feature_weights               object\n",
       "pre_morph_embeddings               object\n",
       "post_morph_embeddings              object\n",
       "me_similarity                     float64\n",
       "fw_similarity                     float64\n",
       "axonal_coords                      object\n",
       "dendritic_coords                   object\n",
       "pre_rf_coords                      object\n",
       "post_rf_coords                     object\n",
       "pre_nucleus_coords                 object\n",
       "nuclei_adp_dist                   float64\n",
       "area1                               int64\n",
       "area2                               int64\n",
       "area3                               int64\n",
       "AL_pre                              int64\n",
       "RL_pre                              int64\n",
       "V1_pre                              int64\n",
       "RL_post                             int64\n",
       "V1_post                             int64\n",
       "AL_post                             int64\n",
       "AL->RL                              int64\n",
       "AL->V1                              int64\n",
       "AL->AL                              int64\n",
       "RL->RL                              int64\n",
       "RL->V1                              int64\n",
       "RL->AL                              int64\n",
       "V1->V1                              int64\n",
       "V1->RL                              int64\n",
       "V1->AL                              int64\n",
       "dtype: object"
      ]
     },
     "execution_count": 124,
     "metadata": {},
     "output_type": "execute_result"
    }
   ],
   "source": [
    "X_train_1hot.dtypes"
   ]
  },
  {
   "cell_type": "code",
   "execution_count": 127,
   "metadata": {},
   "outputs": [],
   "source": [
    "from sklearn.ensemble import RandomForestClassifier\n",
    "from collections import defaultdict\n",
    "\n",
    "feature_counts = defaultdict(int)\n",
    "for rep in range(50):\n",
    "    model = RandomForestClassifier(n_estimators=500)\n",
    "\n",
    "    model.fit(X_train_1hot.select_dtypes('number').drop(columns=['ID', 'nucleus_id']), y_train)\n",
    "\n",
    "    importances = model.feature_importances_\n",
    "    imp_df = pd.DataFrame({\"Features\":X_train_1hot.select_dtypes('number').drop(columns=['ID', 'nucleus_id']).columns, \"Importance\":importances})\n",
    "\n",
    "    imp_df = imp_df.sort_values('Importance', ascending=False)\n",
    "    for feature in imp_df['Features'][0:5]:\n",
    "        feature_counts[feature]+=1"
   ]
  },
  {
   "cell_type": "code",
   "execution_count": 128,
   "metadata": {},
   "outputs": [
    {
     "data": {
      "text/plain": [
       "defaultdict(int,\n",
       "            {'adp_dist': 50,\n",
       "             'pre_skeletal_distance_to_soma': 50,\n",
       "             'nuclei_adp_dist': 50,\n",
       "             'post_skeletal_distance_to_soma': 50,\n",
       "             'fw_similarity': 46,\n",
       "             'me_similarity': 4})"
      ]
     },
     "execution_count": 128,
     "metadata": {},
     "output_type": "execute_result"
    }
   ],
   "source": [
    "feature_counts"
   ]
  },
  {
   "cell_type": "markdown",
   "metadata": {},
   "source": [
    "# Clustering\n",
    "Create clusters?"
   ]
  },
  {
   "cell_type": "code",
   "execution_count": null,
   "metadata": {},
   "outputs": [],
   "source": [
    "sns.scatterplot(x=X_train['post_nucleus_x'], y=X_train['post_nucleus_y'])"
   ]
  },
  {
   "cell_type": "code",
   "execution_count": null,
   "metadata": {},
   "outputs": [],
   "source": [
    "clustering = SpectralClustering(n_clusters= 4, assign_labels='kmeans', affinity = 'nearest_neighbors').fit(X_train[[\"post_nucleus_x\", \"post_nucleus_y\"]])\n",
    "X_train[\"cluster\"] = clustering.fit_predict(X_train[[\"post_nucleus_x\", \"post_nucleus_y\"]])\n",
    "sns.scatterplot(data=X_train, x=\"post_nucleus_x\", y=\"post_nucleus_y\", hue=\"cluster\")"
   ]
  },
  {
   "cell_type": "markdown",
   "metadata": {},
   "source": [
    "# Validation"
   ]
  },
  {
   "cell_type": "code",
   "execution_count": 125,
   "metadata": {},
   "outputs": [],
   "source": [
    "X_val = keep_fw.merge(X_val, left_on='nucleus_id', right_on='pre_nucleus_id')\n",
    "\n",
    "valid_X = X_val.select_dtypes(include='number').drop([\"ID\",\"pre_nucleus_id\", \"post_nucleus_id\"], axis = 1)\n",
    "\n",
    "valid_y = y_val\n",
    "\n",
    "train_X = X_train.select_dtypes(include='number').drop([\"ID\", \"pre_nucleus_id\", \"post_nucleus_id\"], axis = 1)\n",
    "train_y = y_train"
   ]
  },
  {
   "cell_type": "code",
   "execution_count": 126,
   "metadata": {},
   "outputs": [
    {
     "name": "stdout",
     "output_type": "stream",
     "text": [
      "<class 'pandas.core.frame.DataFrame'>\n",
      "RangeIndex: 118903 entries, 0 to 118902\n",
      "Data columns (total 22 columns):\n",
      " #   Column                          Non-Null Count   Dtype  \n",
      "---  ------                          --------------   -----  \n",
      " 0   nucleus_id                      118903 non-null  int64  \n",
      " 1   feature_weight_330              118903 non-null  float64\n",
      " 2   feature_weight_328              118903 non-null  float64\n",
      " 3   adp_dist                        118903 non-null  float64\n",
      " 4   post_skeletal_distance_to_soma  118903 non-null  float64\n",
      " 5   pre_skeletal_distance_to_soma   118903 non-null  float64\n",
      " 6   pre_oracle                      118903 non-null  float64\n",
      " 7   pre_test_score                  118903 non-null  float64\n",
      " 8   post_oracle                     118903 non-null  float64\n",
      " 9   post_test_score                 118903 non-null  float64\n",
      " 10  post_nucleus_x                  118903 non-null  float64\n",
      " 11  post_nucleus_y                  118903 non-null  float64\n",
      " 12  post_nucleus_z                  118903 non-null  float64\n",
      " 13  me_similarity                   118903 non-null  float64\n",
      " 14  fw_similarity                   118903 non-null  float64\n",
      " 15  nuclei_adp_dist                 118903 non-null  float64\n",
      " 16  area1                           118903 non-null  int64  \n",
      " 17  area2                           118903 non-null  int64  \n",
      " 18  area3                           118903 non-null  int64  \n",
      " 19  AL_pre                          118903 non-null  int64  \n",
      " 20  RL_pre                          118903 non-null  int64  \n",
      " 21  V1_pre                          118903 non-null  int64  \n",
      "dtypes: float64(15), int64(7)\n",
      "memory usage: 20.0 MB\n"
     ]
    }
   ],
   "source": [
    "train_X.info()"
   ]
  },
  {
   "cell_type": "markdown",
   "metadata": {},
   "source": [
    "# Neural Network (I am giving up)"
   ]
  },
  {
   "cell_type": "code",
   "execution_count": 27,
   "metadata": {},
   "outputs": [],
   "source": [
    "import tensorflow as tf\n",
    "from sklearn.model_selection import train_test_split\n",
    "import numpy as np\n",
    "from tensorflow import keras\n",
    "import time\n",
    "from sklearn.model_selection import GridSearchCV\n",
    "import seaborn as sns\n",
    "import matplotlib.pyplot as plt\n",
    "import torch"
   ]
  },
  {
   "cell_type": "code",
   "execution_count": 29,
   "metadata": {},
   "outputs": [],
   "source": [
    "# oversample the data\n",
    "ros = RandomOverSampler(random_state=0, sampling_strategy = 'minority')\n",
    "X_trainr, y_trainr = ros.fit_resample(\n",
    "        train_X, train_y)"
   ]
  },
  {
   "cell_type": "code",
   "execution_count": 31,
   "metadata": {},
   "outputs": [],
   "source": [
    "def nnet_single(act_fun, p, X_train, y_train, X_val, y_val):\n",
    "    \"\"\"\n",
    "    Function that constructs a single hidden layer neural network with p neurons using different activation functions\n",
    "\n",
    "    Inputs:\n",
    "        - act_fun: a string giving the name of the activation function to be used\n",
    "        - p: the number of neurons in the neural network\n",
    "        - X_train, y_train: training data\n",
    "        - X_val, y_val: validation data\n",
    "    \n",
    "    Outputs:\n",
    "        - model: the neural network model\n",
    "        - train_time: the time needed to train the model\n",
    "    \"\"\"\n",
    "    keras.utils.set_random_seed(12)\n",
    "    \n",
    "    model = tf.keras.Sequential([\n",
    "        tf.keras.layers.Dense(p, activation=act_fun), # hidden layer\n",
    "        tf.keras.layers.Dense(10, activation='softmax') # output class probabilities\n",
    "    ])\n",
    "    model.compile(optimizer=tf.keras.optimizers.legacy.Adam(learning_rate=0.005),\n",
    "                loss=tf.keras.losses.SparseCategoricalCrossentropy(),\n",
    "                metrics=['accuracy'])\n",
    "\n",
    "    st = time.time() # start timer\n",
    "\n",
    "    model.fit(X_train, y_train, epochs=100, verbose=0) # fit the model to training data\n",
    "\n",
    "    et = time.time() # end timer\n",
    "\n",
    "    train_time = et-st # training time\n",
    "\n",
    "    accuracy_res = round(model.evaluate(X_val, y_val, verbose=0)[1],3) # get the accuracy result\n",
    "    \n",
    "    print(model.metrics_names[1], \"for\", act_fun, \"with p =\", str(p), \":\", str(accuracy_res)) # print the accuracy result\n",
    "\n",
    "    return model, train_time"
   ]
  },
  {
   "cell_type": "code",
   "execution_count": 33,
   "metadata": {},
   "outputs": [
    {
     "ename": "ValueError",
     "evalue": "in user code:\n\n    File \"/Library/Frameworks/Python.framework/Versions/3.11/lib/python3.11/site-packages/keras/src/engine/training.py\", line 2042, in test_function  *\n        return step_function(self, iterator)\n    File \"/Library/Frameworks/Python.framework/Versions/3.11/lib/python3.11/site-packages/keras/src/engine/training.py\", line 2025, in step_function  **\n        outputs = model.distribute_strategy.run(run_step, args=(data,))\n    File \"/Library/Frameworks/Python.framework/Versions/3.11/lib/python3.11/site-packages/keras/src/engine/training.py\", line 2013, in run_step  **\n        outputs = model.test_step(data)\n    File \"/Library/Frameworks/Python.framework/Versions/3.11/lib/python3.11/site-packages/keras/src/engine/training.py\", line 1893, in test_step\n        y_pred = self(x, training=False)\n    File \"/Library/Frameworks/Python.framework/Versions/3.11/lib/python3.11/site-packages/keras/src/utils/traceback_utils.py\", line 70, in error_handler\n        raise e.with_traceback(filtered_tb) from None\n    File \"/Library/Frameworks/Python.framework/Versions/3.11/lib/python3.11/site-packages/keras/src/engine/input_spec.py\", line 280, in assert_input_compatibility\n        raise ValueError(\n\n    ValueError: Exception encountered when calling layer 'sequential_1' (type Sequential).\n    \n    Input 0 of layer \"dense_2\" is incompatible with the layer: expected axis -1 of input shape to have value 19, but received input with shape (None, 22)\n    \n    Call arguments received by layer 'sequential_1' (type Sequential):\n      • inputs=tf.Tensor(shape=(None, 22), dtype=float64)\n      • training=False\n      • mask=None\n",
     "output_type": "error",
     "traceback": [
      "\u001b[0;31m---------------------------------------------------------------------------\u001b[0m",
      "\u001b[0;31mValueError\u001b[0m                                Traceback (most recent call last)",
      "\u001b[1;32m/Users/gracewang/Documents/GitHub/elecfinal/Grace/Testing_ml_pipeline_Grace.ipynb Cell 25\u001b[0m line \u001b[0;36m1\n\u001b[0;32m----> <a href='vscode-notebook-cell:/Users/gracewang/Documents/GitHub/elecfinal/Grace/Testing_ml_pipeline_Grace.ipynb#X54sZmlsZQ%3D%3D?line=0'>1</a>\u001b[0m model, train_time \u001b[39m=\u001b[39m nnet_single(\u001b[39m\"\u001b[39;49m\u001b[39mrelu\u001b[39;49m\u001b[39m\"\u001b[39;49m, \u001b[39m10\u001b[39;49m, X_trainr, y_trainr, valid_X, valid_y)\n",
      "\u001b[1;32m/Users/gracewang/Documents/GitHub/elecfinal/Grace/Testing_ml_pipeline_Grace.ipynb Cell 25\u001b[0m line \u001b[0;36m3\n\u001b[1;32m     <a href='vscode-notebook-cell:/Users/gracewang/Documents/GitHub/elecfinal/Grace/Testing_ml_pipeline_Grace.ipynb#X54sZmlsZQ%3D%3D?line=28'>29</a>\u001b[0m et \u001b[39m=\u001b[39m time\u001b[39m.\u001b[39mtime() \u001b[39m# end timer\u001b[39;00m\n\u001b[1;32m     <a href='vscode-notebook-cell:/Users/gracewang/Documents/GitHub/elecfinal/Grace/Testing_ml_pipeline_Grace.ipynb#X54sZmlsZQ%3D%3D?line=30'>31</a>\u001b[0m train_time \u001b[39m=\u001b[39m et\u001b[39m-\u001b[39mst \u001b[39m# training time\u001b[39;00m\n\u001b[0;32m---> <a href='vscode-notebook-cell:/Users/gracewang/Documents/GitHub/elecfinal/Grace/Testing_ml_pipeline_Grace.ipynb#X54sZmlsZQ%3D%3D?line=32'>33</a>\u001b[0m accuracy_res \u001b[39m=\u001b[39m \u001b[39mround\u001b[39m(model\u001b[39m.\u001b[39;49mevaluate(X_val, y_val, verbose\u001b[39m=\u001b[39;49m\u001b[39m0\u001b[39;49m)[\u001b[39m1\u001b[39m],\u001b[39m3\u001b[39m) \u001b[39m# get the accuracy result\u001b[39;00m\n\u001b[1;32m     <a href='vscode-notebook-cell:/Users/gracewang/Documents/GitHub/elecfinal/Grace/Testing_ml_pipeline_Grace.ipynb#X54sZmlsZQ%3D%3D?line=34'>35</a>\u001b[0m \u001b[39mprint\u001b[39m(model\u001b[39m.\u001b[39mmetrics_names[\u001b[39m1\u001b[39m], \u001b[39m\"\u001b[39m\u001b[39mfor\u001b[39m\u001b[39m\"\u001b[39m, act_fun, \u001b[39m\"\u001b[39m\u001b[39mwith p =\u001b[39m\u001b[39m\"\u001b[39m, \u001b[39mstr\u001b[39m(p), \u001b[39m\"\u001b[39m\u001b[39m:\u001b[39m\u001b[39m\"\u001b[39m, \u001b[39mstr\u001b[39m(accuracy_res)) \u001b[39m# print the accuracy result\u001b[39;00m\n\u001b[1;32m     <a href='vscode-notebook-cell:/Users/gracewang/Documents/GitHub/elecfinal/Grace/Testing_ml_pipeline_Grace.ipynb#X54sZmlsZQ%3D%3D?line=36'>37</a>\u001b[0m \u001b[39mreturn\u001b[39;00m model, train_time\n",
      "File \u001b[0;32m/Library/Frameworks/Python.framework/Versions/3.11/lib/python3.11/site-packages/keras/src/utils/traceback_utils.py:70\u001b[0m, in \u001b[0;36mfilter_traceback.<locals>.error_handler\u001b[0;34m(*args, **kwargs)\u001b[0m\n\u001b[1;32m     67\u001b[0m     filtered_tb \u001b[39m=\u001b[39m _process_traceback_frames(e\u001b[39m.\u001b[39m__traceback__)\n\u001b[1;32m     68\u001b[0m     \u001b[39m# To get the full stack trace, call:\u001b[39;00m\n\u001b[1;32m     69\u001b[0m     \u001b[39m# `tf.debugging.disable_traceback_filtering()`\u001b[39;00m\n\u001b[0;32m---> 70\u001b[0m     \u001b[39mraise\u001b[39;00m e\u001b[39m.\u001b[39mwith_traceback(filtered_tb) \u001b[39mfrom\u001b[39;00m \u001b[39mNone\u001b[39;00m\n\u001b[1;32m     71\u001b[0m \u001b[39mfinally\u001b[39;00m:\n\u001b[1;32m     72\u001b[0m     \u001b[39mdel\u001b[39;00m filtered_tb\n",
      "File \u001b[0;32m/var/folders/b8/zl2jm8vs42b9q_gbk09_pdn40000gn/T/__autograph_generated_filec1h6fk_o.py:15\u001b[0m, in \u001b[0;36mouter_factory.<locals>.inner_factory.<locals>.tf__test_function\u001b[0;34m(iterator)\u001b[0m\n\u001b[1;32m     13\u001b[0m \u001b[39mtry\u001b[39;00m:\n\u001b[1;32m     14\u001b[0m     do_return \u001b[39m=\u001b[39m \u001b[39mTrue\u001b[39;00m\n\u001b[0;32m---> 15\u001b[0m     retval_ \u001b[39m=\u001b[39m ag__\u001b[39m.\u001b[39mconverted_call(ag__\u001b[39m.\u001b[39mld(step_function), (ag__\u001b[39m.\u001b[39mld(\u001b[39mself\u001b[39m), ag__\u001b[39m.\u001b[39mld(iterator)), \u001b[39mNone\u001b[39;00m, fscope)\n\u001b[1;32m     16\u001b[0m \u001b[39mexcept\u001b[39;00m:\n\u001b[1;32m     17\u001b[0m     do_return \u001b[39m=\u001b[39m \u001b[39mFalse\u001b[39;00m\n",
      "\u001b[0;31mValueError\u001b[0m: in user code:\n\n    File \"/Library/Frameworks/Python.framework/Versions/3.11/lib/python3.11/site-packages/keras/src/engine/training.py\", line 2042, in test_function  *\n        return step_function(self, iterator)\n    File \"/Library/Frameworks/Python.framework/Versions/3.11/lib/python3.11/site-packages/keras/src/engine/training.py\", line 2025, in step_function  **\n        outputs = model.distribute_strategy.run(run_step, args=(data,))\n    File \"/Library/Frameworks/Python.framework/Versions/3.11/lib/python3.11/site-packages/keras/src/engine/training.py\", line 2013, in run_step  **\n        outputs = model.test_step(data)\n    File \"/Library/Frameworks/Python.framework/Versions/3.11/lib/python3.11/site-packages/keras/src/engine/training.py\", line 1893, in test_step\n        y_pred = self(x, training=False)\n    File \"/Library/Frameworks/Python.framework/Versions/3.11/lib/python3.11/site-packages/keras/src/utils/traceback_utils.py\", line 70, in error_handler\n        raise e.with_traceback(filtered_tb) from None\n    File \"/Library/Frameworks/Python.framework/Versions/3.11/lib/python3.11/site-packages/keras/src/engine/input_spec.py\", line 280, in assert_input_compatibility\n        raise ValueError(\n\n    ValueError: Exception encountered when calling layer 'sequential_1' (type Sequential).\n    \n    Input 0 of layer \"dense_2\" is incompatible with the layer: expected axis -1 of input shape to have value 19, but received input with shape (None, 22)\n    \n    Call arguments received by layer 'sequential_1' (type Sequential):\n      • inputs=tf.Tensor(shape=(None, 22), dtype=float64)\n      • training=False\n      • mask=None\n"
     ]
    }
   ],
   "source": [
    "model, train_time = nnet_single(\"relu\", 10, X_trainr, y_trainr, valid_X, valid_y)"
   ]
  },
  {
   "cell_type": "markdown",
   "metadata": {},
   "source": [
    "# Validation for Hyperparameters"
   ]
  },
  {
   "cell_type": "code",
   "execution_count": 64,
   "metadata": {},
   "outputs": [],
   "source": [
    "\"\"\"\n",
    "    Function that outputs a model with optimal hyperparameters\n",
    "    based on a validation set using grid search\n",
    "\n",
    "    Inputs:\n",
    "    model: provided model\n",
    "    param_grid: dictionary of parameters and values to validate on\n",
    "    e.g. \n",
    "    {'C': [0.001,0.01,0.1,1,10], \n",
    "    'gamma':[0.1,1,10,100], \n",
    "    'kernel':('linear', 'rbf')}\n",
    "    valid_X: validation X of data (pandas df)\n",
    "    valid_y: validation y of data\n",
    "\n",
    "    Outputs: \n",
    "    clf: provided model with optimum hyperparameters\n",
    "    \"\"\"\n",
    "pre_valid_models = [LinearDiscriminantAnalysis()]\n",
    "param_grids = [\n",
    "    {\n",
    "    'solver' : ['lsqr', 'eigen', 'svd'],\n",
    "    'shrinkage' : ['auto']\n",
    "    }]\n",
    "post_valid_models = []\n",
    "\n",
    "for i in range(len(pre_valid_models)):\n",
    "    best_clf = validation(model = pre_valid_models[i], \n",
    "                                        param_grid = param_grids[i], \n",
    "                                        valid_X = train_X, \n",
    "                                        valid_y = train_y)\n",
    "    post_valid_models.append(best_clf)\n"
   ]
  },
  {
   "cell_type": "markdown",
   "metadata": {},
   "source": [
    "(Alternative validation) USING ALL SVDs"
   ]
  },
  {
   "cell_type": "code",
   "execution_count": null,
   "metadata": {},
   "outputs": [],
   "source": [
    "pre_valid_models = [SVC()]\n",
    "param_grids = [\n",
    "    {\n",
    "    'kernel':['rbf'],\n",
    "    'C': [0.1, 1],\n",
    "    }]\n",
    "post_valid_models = []\n",
    "\n",
    "for i in range(len(pre_valid_models)):\n",
    "    best_clf = validation(model = pre_valid_models[i], \n",
    "                                        param_grid = param_grids[i], \n",
    "                                        valid_X = valid_X, \n",
    "                                        valid_y = valid_y)\n",
    "    post_valid_models.append(best_clf)"
   ]
  },
  {
   "cell_type": "code",
   "execution_count": 74,
   "metadata": {},
   "outputs": [
    {
     "data": {
      "text/plain": [
       "{'covariance_estimator': None,\n",
       " 'n_components': None,\n",
       " 'priors': None,\n",
       " 'shrinkage': 'auto',\n",
       " 'solver': 'lsqr',\n",
       " 'store_covariance': False,\n",
       " 'tol': 0.0001}"
      ]
     },
     "execution_count": 74,
     "metadata": {},
     "output_type": "execute_result"
    }
   ],
   "source": [
    "post_valid_models[0].get_params()"
   ]
  },
  {
   "cell_type": "markdown",
   "metadata": {},
   "source": [
    "# Training and Predicting"
   ]
  },
  {
   "cell_type": "code",
   "execution_count": 65,
   "metadata": {},
   "outputs": [],
   "source": [
    "\n",
    "query_X = X_query.select_dtypes(include='number').drop([\"ID\", \"pre_nucleus_id\", \"post_nucleus_id\"], axis = 1)\n",
    "query_y = y_query\n"
   ]
  },
  {
   "cell_type": "code",
   "execution_count": 66,
   "metadata": {},
   "outputs": [],
   "source": [
    "\"\"\"\n",
    "    Function that takes in a dataframe of data and outputs \n",
    "    a fitted \"optimal\" model\n",
    "\n",
    "    Inputs:\n",
    "    - train: training set\n",
    "    - query: query set\n",
    "    - models: dictionary of (model_name : model function) to train and predict on, with optimized \n",
    "    parameters already.\n",
    "\n",
    "    Outputs:\n",
    "    - best_clf: The optimum classifier function fitted over training data\n",
    "\n",
    "    - accuracy_score: list of accuracies based on order of models\n",
    "    passed.\n",
    "    \"\"\"\n",
    "##Change this according to the models you passed for validation\n",
    "models = {\"LDA\": post_valid_models[0]}\n",
    "accuracy_score, best_clf, trained_models = train_n_predict(train_X, train_y, query_X, query_y, models)"
   ]
  },
  {
   "cell_type": "code",
   "execution_count": null,
   "metadata": {},
   "outputs": [],
   "source": [
    "trained_models[\"LDA\"].save_weights('top_submission_rfc')"
   ]
  },
  {
   "cell_type": "code",
   "execution_count": 67,
   "metadata": {},
   "outputs": [
    {
     "name": "stdout",
     "output_type": "stream",
     "text": [
      "The accuracies are {'LDA': 0.7471878711660729}\n"
     ]
    }
   ],
   "source": [
    "print(\"The accuracies are\", accuracy_score)"
   ]
  },
  {
   "cell_type": "code",
   "execution_count": 68,
   "metadata": {},
   "outputs": [
    {
     "data": {
      "text/plain": [
       "Index(['nucleus_id', 'feature_weight_330', 'feature_weight_328', 'ID',\n",
       "       'adp_dist', 'post_skeletal_distance_to_soma',\n",
       "       'pre_skeletal_distance_to_soma', 'pre_oracle', 'pre_test_score',\n",
       "       'post_oracle', 'post_test_score', 'compartment', 'pre_brain_area',\n",
       "       'post_brain_area', 'post_nucleus_x', 'post_nucleus_y', 'post_nucleus_z',\n",
       "       'pre_nucleus_id', 'post_nucleus_id', 'pre_feature_weights',\n",
       "       'post_feature_weights', 'pre_morph_embeddings', 'post_morph_embeddings',\n",
       "       'me_similarity', 'fw_similarity', 'projection_group', 'axonal_coords',\n",
       "       'dendritic_coords', 'pre_rf_coords', 'post_rf_coords',\n",
       "       'pre_nucleus_coords', 'nuclei_adp_dist', 'area1', 'area2', 'area3'],\n",
       "      dtype='object')"
      ]
     },
     "execution_count": 68,
     "metadata": {},
     "output_type": "execute_result"
    }
   ],
   "source": [
    "leaderboard_path = \"../Data/leaderboard_data.csv\"\n",
    "sub_data = cleaner(leaderboard_path, feature_path, morph_path, submission = True)\n",
    "sub_data = area_cols(sub_data)\n",
    "sub_data = keep_fw.merge(sub_data, left_on='nucleus_id', right_on='pre_nucleus_id')\n",
    "\n",
    "sub_data.columns"
   ]
  },
  {
   "cell_type": "code",
   "execution_count": 69,
   "metadata": {},
   "outputs": [
    {
     "data": {
      "text/plain": [
       "Index(['nucleus_id', 'feature_weight_330', 'feature_weight_328', 'ID',\n",
       "       'adp_dist', 'post_skeletal_distance_to_soma',\n",
       "       'pre_skeletal_distance_to_soma', 'pre_oracle', 'pre_test_score',\n",
       "       'post_oracle', 'post_test_score', 'post_nucleus_x', 'post_nucleus_y',\n",
       "       'post_nucleus_z', 'me_similarity', 'fw_similarity', 'nuclei_adp_dist',\n",
       "       'area1', 'area2', 'area3'],\n",
       "      dtype='object')"
      ]
     },
     "execution_count": 69,
     "metadata": {},
     "output_type": "execute_result"
    }
   ],
   "source": [
    "lb_data = sub_data.select_dtypes(include='number').drop([\"pre_nucleus_id\", \"post_nucleus_id\"], axis = 1)\n",
    "lb_data.columns"
   ]
  },
  {
   "cell_type": "code",
   "execution_count": 70,
   "metadata": {},
   "outputs": [],
   "source": [
    "#create a boolean prediction solution\n",
    "lb_data[\"connected\"] = trained_models[\"LDA\"].predict(lb_data.drop(\"ID\", axis = 1))"
   ]
  },
  {
   "cell_type": "code",
   "execution_count": 71,
   "metadata": {},
   "outputs": [],
   "source": [
    "submission_data = lb_data.filter(['ID','connected'])"
   ]
  },
  {
   "cell_type": "code",
   "execution_count": 72,
   "metadata": {},
   "outputs": [],
   "source": [
    "submission_data.to_csv('submission_data.csv',index=False)"
   ]
  },
  {
   "cell_type": "code",
   "execution_count": null,
   "metadata": {},
   "outputs": [],
   "source": []
  }
 ],
 "metadata": {
  "kernelspec": {
   "display_name": "Python 3",
   "language": "python",
   "name": "python3"
  },
  "language_info": {
   "codemirror_mode": {
    "name": "ipython",
    "version": 3
   },
   "file_extension": ".py",
   "mimetype": "text/x-python",
   "name": "python",
   "nbconvert_exporter": "python",
   "pygments_lexer": "ipython3",
   "version": "3.11.4"
  }
 },
 "nbformat": 4,
 "nbformat_minor": 2
}
