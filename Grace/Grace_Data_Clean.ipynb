{
 "cells": [
  {
   "cell_type": "markdown",
   "metadata": {},
   "source": [
    "# Data Cleaning & Exploratory Analysis"
   ]
  },
  {
   "cell_type": "code",
   "execution_count": 1,
   "metadata": {},
   "outputs": [],
   "source": [
    "import pandas as pd\n",
    "import numpy as np\n",
    "import matplotlib.pyplot as plt\n",
    "import seaborn as sns\n",
    "import math"
   ]
  },
  {
   "cell_type": "code",
   "execution_count": 2,
   "metadata": {},
   "outputs": [],
   "source": [
    "#load in training data on each potential synapse\n",
    "data = pd.read_csv(\"../Data/train_data.csv\")\n",
    "\n",
    "#load in additional features for each neuron\n",
    "feature_weights = pd.read_csv(\"../Data/feature_weights.csv\")\n",
    "morph_embeddings = pd.read_csv(\"../Data/morph_embeddings.csv\")\n",
    "# join all feature_weight_i columns into a single np.array column\n",
    "feature_weights[\"feature_weights\"] = (\n",
    "    feature_weights.filter(regex=\"feature_weight_\")\n",
    "    .sort_index(axis=1)\n",
    "    .apply(lambda x: np.array(x), axis=1)\n",
    ")\n",
    "# delete the feature_weight_i columns\n",
    "feature_weights.drop(\n",
    "    feature_weights.filter(regex=\"feature_weight_\").columns, axis=1, inplace=True\n",
    ")\n",
    "\n",
    "# join all morph_embed_i columns into a single np.array column\n",
    "morph_embeddings[\"morph_embeddings\"] = (\n",
    "    morph_embeddings.filter(regex=\"morph_emb_\")\n",
    "    .sort_index(axis=1)\n",
    "    .apply(lambda x: np.array(x), axis=1)\n",
    ")\n",
    "# delete the morph_embed_i columns\n",
    "morph_embeddings.drop(\n",
    "    morph_embeddings.filter(regex=\"morph_emb_\").columns, axis=1, inplace=True\n",
    ")\n",
    "data = (\n",
    "    data.merge(\n",
    "        feature_weights.rename(columns=lambda x: \"pre_\" + x), \n",
    "        how=\"left\", \n",
    "        validate=\"m:1\",\n",
    "        copy=False,\n",
    "    )\n",
    "    .merge(\n",
    "        feature_weights.rename(columns=lambda x: \"post_\" + x),\n",
    "        how=\"left\",\n",
    "        validate=\"m:1\",\n",
    "        copy=False,\n",
    "    )\n",
    "    .merge(\n",
    "        morph_embeddings.rename(columns=lambda x: \"pre_\" + x),\n",
    "        how=\"left\",\n",
    "        validate=\"m:1\",\n",
    "        copy=False,\n",
    "    )\n",
    "    .merge(\n",
    "        morph_embeddings.rename(columns=lambda x: \"post_\" + x),\n",
    "        how=\"left\",\n",
    "        validate=\"m:1\",\n",
    "        copy=False,\n",
    "    )\n",
    ")\n"
   ]
  },
  {
   "cell_type": "code",
   "execution_count": 3,
   "metadata": {},
   "outputs": [
    {
     "data": {
      "text/plain": [
       "Index(['ID', 'axonal_coor_x', 'axonal_coor_y', 'axonal_coor_z',\n",
       "       'dendritic_coor_x', 'dendritic_coor_y', 'dendritic_coor_z', 'adp_dist',\n",
       "       'post_skeletal_distance_to_soma', 'pre_skeletal_distance_to_soma',\n",
       "       'pre_oracle', 'pre_test_score', 'pre_rf_x', 'pre_rf_y', 'post_oracle',\n",
       "       'post_test_score', 'post_rf_x', 'post_rf_y', 'compartment',\n",
       "       'pre_brain_area', 'post_brain_area', 'pre_nucleus_x', 'pre_nucleus_y',\n",
       "       'pre_nucleus_z', 'post_nucleus_x', 'post_nucleus_y', 'post_nucleus_z',\n",
       "       'pre_nucleus_id', 'post_nucleus_id', 'connected', 'pre_feature_weights',\n",
       "       'post_feature_weights', 'pre_morph_embeddings',\n",
       "       'post_morph_embeddings'],\n",
       "      dtype='object')"
      ]
     },
     "execution_count": 3,
     "metadata": {},
     "output_type": "execute_result"
    }
   ],
   "source": [
    "data.columns"
   ]
  },
  {
   "cell_type": "code",
   "execution_count": 4,
   "metadata": {},
   "outputs": [],
   "source": [
    "# join all distance columns into a single np.array column\n",
    "def dist_column(df, new_col, old_cols):\n",
    "    df[new_col] = (\n",
    "        df.filter(regex=old_cols)\n",
    "        .sort_index(axis=1)\n",
    "        .apply(lambda x: np.array(x), axis=1)\n",
    "    )\n",
    "    # delete the old columns\n",
    "    df.drop(\n",
    "        df.filter(regex=old_cols).columns, axis=1, inplace=True\n",
    "    )\n",
    "    return df"
   ]
  },
  {
   "cell_type": "code",
   "execution_count": 5,
   "metadata": {},
   "outputs": [],
   "source": [
    "df = dist_column(data, \"axonal_coords\", \"axonal_coor_\")\n",
    "df = dist_column(data, \"dendritic_coords\", \"dendritic_coor_\")\n",
    "df = dist_column(data, \"pre_rf_coords\", \"pre_rf_\")\n",
    "df = dist_column(data, \"post_rf_coords\", \"post_rf_\")\n",
    "df = dist_column(data, \"pre_nucleus_coords\", \"pre_nucleus_[xyz]\")\n",
    "df = dist_column(data, \"post_nucleus_coords\", \"post_nucleus_[xyz]\")"
   ]
  },
  {
   "cell_type": "code",
   "execution_count": 6,
   "metadata": {},
   "outputs": [
    {
     "data": {
      "text/plain": [
       "Index(['ID', 'adp_dist', 'post_skeletal_distance_to_soma',\n",
       "       'pre_skeletal_distance_to_soma', 'pre_oracle', 'pre_test_score',\n",
       "       'post_oracle', 'post_test_score', 'compartment', 'pre_brain_area',\n",
       "       'post_brain_area', 'pre_nucleus_id', 'post_nucleus_id', 'connected',\n",
       "       'pre_feature_weights', 'post_feature_weights', 'pre_morph_embeddings',\n",
       "       'post_morph_embeddings', 'axonal_coords', 'dendritic_coords',\n",
       "       'pre_nucleus_coords', 'post_nucleus_coords'],\n",
       "      dtype='object')"
      ]
     },
     "execution_count": 6,
     "metadata": {},
     "output_type": "execute_result"
    }
   ],
   "source": [
    "df.columns"
   ]
  },
  {
   "cell_type": "markdown",
   "metadata": {},
   "source": [
    "## Distance from Pre-Synaptic Nucleus to Axon\n",
    "The presynaptic neuron is the one that transmits chemical information; perhaps if the distance between the nucleus of the presynaptic neuron and its axon is sufficiently large, the neuron's electrical charge will not be strong enough to form a connection."
   ]
  },
  {
   "cell_type": "code",
   "execution_count": 7,
   "metadata": {},
   "outputs": [],
   "source": [
    "# nuclei-adp euclidean distance\n",
    "df[\"nuclei_adp_dist\"] =  df[[\"pre_nucleus_coords\", \"axonal_coords\"]].apply(lambda x: math.dist(x[\"pre_nucleus_coords\"], x[\"axonal_coords\"]), axis=1)"
   ]
  },
  {
   "cell_type": "code",
   "execution_count": 8,
   "metadata": {},
   "outputs": [
    {
     "name": "stderr",
     "output_type": "stream",
     "text": [
      "/Library/Frameworks/Python.framework/Versions/3.11/lib/python3.11/site-packages/seaborn/_oldcore.py:1498: FutureWarning: is_categorical_dtype is deprecated and will be removed in a future version. Use isinstance(dtype, CategoricalDtype) instead\n",
      "  if pd.api.types.is_categorical_dtype(vector):\n",
      "/Library/Frameworks/Python.framework/Versions/3.11/lib/python3.11/site-packages/seaborn/_oldcore.py:1498: FutureWarning: is_categorical_dtype is deprecated and will be removed in a future version. Use isinstance(dtype, CategoricalDtype) instead\n",
      "  if pd.api.types.is_categorical_dtype(vector):\n",
      "/Library/Frameworks/Python.framework/Versions/3.11/lib/python3.11/site-packages/seaborn/_oldcore.py:1498: FutureWarning: is_categorical_dtype is deprecated and will be removed in a future version. Use isinstance(dtype, CategoricalDtype) instead\n",
      "  if pd.api.types.is_categorical_dtype(vector):\n",
      "/Library/Frameworks/Python.framework/Versions/3.11/lib/python3.11/site-packages/seaborn/_oldcore.py:1498: FutureWarning: is_categorical_dtype is deprecated and will be removed in a future version. Use isinstance(dtype, CategoricalDtype) instead\n",
      "  if pd.api.types.is_categorical_dtype(vector):\n",
      "/Library/Frameworks/Python.framework/Versions/3.11/lib/python3.11/site-packages/seaborn/_oldcore.py:1498: FutureWarning: is_categorical_dtype is deprecated and will be removed in a future version. Use isinstance(dtype, CategoricalDtype) instead\n",
      "  if pd.api.types.is_categorical_dtype(vector):\n",
      "/Library/Frameworks/Python.framework/Versions/3.11/lib/python3.11/site-packages/seaborn/categorical.py:1794: FutureWarning: use_inf_as_na option is deprecated and will be removed in a future version. Convert inf values to NaN before operating instead.\n",
      "  with pd.option_context('mode.use_inf_as_na', True):\n",
      "/Library/Frameworks/Python.framework/Versions/3.11/lib/python3.11/site-packages/seaborn/categorical.py:1794: FutureWarning: use_inf_as_na option is deprecated and will be removed in a future version. Convert inf values to NaN before operating instead.\n",
      "  with pd.option_context('mode.use_inf_as_na', True):\n"
     ]
    },
    {
     "data": {
      "text/plain": [
       "<seaborn.axisgrid.FacetGrid at 0x12347dd10>"
      ]
     },
     "execution_count": 8,
     "metadata": {},
     "output_type": "execute_result"
    },
    {
     "data": {
      "image/png": "[encoded data removed]",
      "text/plain": [
       "<Figure size 500x500 with 1 Axes>"
      ]
     },
     "metadata": {},
     "output_type": "display_data"
    }
   ],
   "source": [
    "sns.catplot(data=df, x='connected', y='nuclei_adp_dist', kind='boxen')"
   ]
  },
  {
   "cell_type": "markdown",
   "metadata": {},
   "source": [
    "## Pre-Synaptic Soma to ADP Distance\n",
    "\"Generally, axons form thousands of synapses that are often arranged like pearls on a string, with approximately one presynaptic specialization per 2-µm axon length\" - The Cell Biology of Synapse Formation (https://www.ncbi.nlm.nih.gov/pmc/articles/PMC8186004/#:~:text=After%20neurons%20are%20born%2C%20migrate,under%20control%20of%20unknown%20signals.)\n",
    "Perhaps the number of synapses formed is related to the length of the axon"
   ]
  },
  {
   "cell_type": "code",
   "execution_count": 9,
   "metadata": {},
   "outputs": [
    {
     "name": "stderr",
     "output_type": "stream",
     "text": [
      "/Library/Frameworks/Python.framework/Versions/3.11/lib/python3.11/site-packages/seaborn/_oldcore.py:1498: FutureWarning: is_categorical_dtype is deprecated and will be removed in a future version. Use isinstance(dtype, CategoricalDtype) instead\n",
      "  if pd.api.types.is_categorical_dtype(vector):\n",
      "/Library/Frameworks/Python.framework/Versions/3.11/lib/python3.11/site-packages/seaborn/_oldcore.py:1498: FutureWarning: is_categorical_dtype is deprecated and will be removed in a future version. Use isinstance(dtype, CategoricalDtype) instead\n",
      "  if pd.api.types.is_categorical_dtype(vector):\n",
      "/Library/Frameworks/Python.framework/Versions/3.11/lib/python3.11/site-packages/seaborn/_oldcore.py:1498: FutureWarning: is_categorical_dtype is deprecated and will be removed in a future version. Use isinstance(dtype, CategoricalDtype) instead\n",
      "  if pd.api.types.is_categorical_dtype(vector):\n",
      "/Library/Frameworks/Python.framework/Versions/3.11/lib/python3.11/site-packages/seaborn/_oldcore.py:1498: FutureWarning: is_categorical_dtype is deprecated and will be removed in a future version. Use isinstance(dtype, CategoricalDtype) instead\n",
      "  if pd.api.types.is_categorical_dtype(vector):\n",
      "/Library/Frameworks/Python.framework/Versions/3.11/lib/python3.11/site-packages/seaborn/_oldcore.py:1498: FutureWarning: is_categorical_dtype is deprecated and will be removed in a future version. Use isinstance(dtype, CategoricalDtype) instead\n",
      "  if pd.api.types.is_categorical_dtype(vector):\n",
      "/Library/Frameworks/Python.framework/Versions/3.11/lib/python3.11/site-packages/seaborn/categorical.py:1794: FutureWarning: use_inf_as_na option is deprecated and will be removed in a future version. Convert inf values to NaN before operating instead.\n",
      "  with pd.option_context('mode.use_inf_as_na', True):\n",
      "/Library/Frameworks/Python.framework/Versions/3.11/lib/python3.11/site-packages/seaborn/categorical.py:1794: FutureWarning: use_inf_as_na option is deprecated and will be removed in a future version. Convert inf values to NaN before operating instead.\n",
      "  with pd.option_context('mode.use_inf_as_na', True):\n"
     ]
    },
    {
     "data": {
      "text/plain": [
       "<seaborn.axisgrid.FacetGrid at 0x288174450>"
      ]
     },
     "execution_count": 9,
     "metadata": {},
     "output_type": "execute_result"
    },
    {
     "data": {
      "image/png": "[encoded data removed]",
      "text/plain": [
       "<Figure size 500x500 with 1 Axes>"
      ]
     },
     "metadata": {},
     "output_type": "display_data"
    }
   ],
   "source": [
    "sns.catplot(data=df, x='connected', y='pre_skeletal_distance_to_soma', kind='boxen')"
   ]
  },
  {
   "cell_type": "markdown",
   "metadata": {},
   "source": [
    "## Per-Neuron ADP Counts\n",
    "How many ADPs are formed by each neuron? Maybe those with more ADPs will be more likely to have a connection."
   ]
  },
  {
   "cell_type": "code",
   "execution_count": 10,
   "metadata": {},
   "outputs": [],
   "source": [
    "counts = df.groupby('pre_nucleus_id').count() # count of each presynaptic neuron\n",
    "counts = counts[\"ID\"]\n",
    "total_connections = df[[\"pre_nucleus_id\", \"connected\"]].groupby('pre_nucleus_id').sum()\n",
    "total_connections = total_connections[\"connected\"]\n",
    "adp_counts = pd.DataFrame([counts, total_connections]).transpose()\n",
    "adp_counts = adp_counts.rename(columns={\"ID\":\"count\"})\n",
    "adp_counts[\"connect_rate\"] = adp_counts[\"connected\"]/adp_counts[\"count\"]"
   ]
  },
  {
   "cell_type": "code",
   "execution_count": 11,
   "metadata": {},
   "outputs": [
    {
     "name": "stderr",
     "output_type": "stream",
     "text": [
      "/Library/Frameworks/Python.framework/Versions/3.11/lib/python3.11/site-packages/seaborn/_oldcore.py:1498: FutureWarning: is_categorical_dtype is deprecated and will be removed in a future version. Use isinstance(dtype, CategoricalDtype) instead\n",
      "  if pd.api.types.is_categorical_dtype(vector):\n",
      "/Library/Frameworks/Python.framework/Versions/3.11/lib/python3.11/site-packages/seaborn/_oldcore.py:1498: FutureWarning: is_categorical_dtype is deprecated and will be removed in a future version. Use isinstance(dtype, CategoricalDtype) instead\n",
      "  if pd.api.types.is_categorical_dtype(vector):\n"
     ]
    },
    {
     "data": {
      "text/plain": [
       "<Axes: xlabel='count', ylabel='connected'>"
      ]
     },
     "execution_count": 11,
     "metadata": {},
     "output_type": "execute_result"
    },
    {
     "data": {
      "image/png": "[encoded data removed]",
      "text/plain": [
       "<Figure size 640x480 with 1 Axes>"
      ]
     },
     "metadata": {},
     "output_type": "display_data"
    }
   ],
   "source": [
    "# scatter plot of adp count vs number connected\n",
    "sns.scatterplot(data=adp_counts, x=\"count\", y=\"connected\")"
   ]
  },
  {
   "cell_type": "code",
   "execution_count": 12,
   "metadata": {},
   "outputs": [
    {
     "name": "stderr",
     "output_type": "stream",
     "text": [
      "/Library/Frameworks/Python.framework/Versions/3.11/lib/python3.11/site-packages/seaborn/_oldcore.py:1498: FutureWarning: is_categorical_dtype is deprecated and will be removed in a future version. Use isinstance(dtype, CategoricalDtype) instead\n",
      "  if pd.api.types.is_categorical_dtype(vector):\n",
      "/Library/Frameworks/Python.framework/Versions/3.11/lib/python3.11/site-packages/seaborn/_oldcore.py:1119: FutureWarning: use_inf_as_na option is deprecated and will be removed in a future version. Convert inf values to NaN before operating instead.\n",
      "  with pd.option_context('mode.use_inf_as_na', True):\n"
     ]
    },
    {
     "data": {
      "text/plain": [
       "<Axes: xlabel='connect_rate', ylabel='Count'>"
      ]
     },
     "execution_count": 12,
     "metadata": {},
     "output_type": "execute_result"
    },
    {
     "data": {
      "image/png": "[encoded data removed]",
      "text/plain": [
       "<Figure size 640x480 with 1 Axes>"
      ]
     },
     "metadata": {},
     "output_type": "display_data"
    }
   ],
   "source": [
    "# bar graph of connection rate vs count\n",
    "sns.histplot(data=adp_counts, x=\"connect_rate\")"
   ]
  },
  {
   "cell_type": "code",
   "execution_count": 13,
   "metadata": {},
   "outputs": [
    {
     "data": {
      "text/html": [
       "<div>\n",
       "<style scoped>\n",
       "    .dataframe tbody tr th:only-of-type {\n",
       "        vertical-align: middle;\n",
       "    }\n",
       "\n",
       "    .dataframe tbody tr th {\n",
       "        vertical-align: top;\n",
       "    }\n",
       "\n",
       "    .dataframe thead th {\n",
       "        text-align: right;\n",
       "    }\n",
       "</style>\n",
       "<table border=\"1\" class=\"dataframe\">\n",
       "  <thead>\n",
       "    <tr style=\"text-align: right;\">\n",
       "      <th></th>\n",
       "      <th>count</th>\n",
       "      <th>connected</th>\n",
       "      <th>connect_rate</th>\n",
       "    </tr>\n",
       "    <tr>\n",
       "      <th>pre_nucleus_id</th>\n",
       "      <th></th>\n",
       "      <th></th>\n",
       "      <th></th>\n",
       "    </tr>\n",
       "  </thead>\n",
       "  <tbody>\n",
       "    <tr>\n",
       "      <th>269247</th>\n",
       "      <td>956</td>\n",
       "      <td>29</td>\n",
       "      <td>0.030335</td>\n",
       "    </tr>\n",
       "    <tr>\n",
       "      <th>330079</th>\n",
       "      <td>3308</td>\n",
       "      <td>63</td>\n",
       "      <td>0.019045</td>\n",
       "    </tr>\n",
       "    <tr>\n",
       "      <th>330326</th>\n",
       "      <td>1834</td>\n",
       "      <td>33</td>\n",
       "      <td>0.017993</td>\n",
       "    </tr>\n",
       "    <tr>\n",
       "      <th>258307</th>\n",
       "      <td>4277</td>\n",
       "      <td>64</td>\n",
       "      <td>0.014964</td>\n",
       "    </tr>\n",
       "    <tr>\n",
       "      <th>612352</th>\n",
       "      <td>745</td>\n",
       "      <td>10</td>\n",
       "      <td>0.013423</td>\n",
       "    </tr>\n",
       "    <tr>\n",
       "      <th>...</th>\n",
       "      <td>...</td>\n",
       "      <td>...</td>\n",
       "      <td>...</td>\n",
       "    </tr>\n",
       "    <tr>\n",
       "      <th>583891</th>\n",
       "      <td>629</td>\n",
       "      <td>0</td>\n",
       "      <td>0.000000</td>\n",
       "    </tr>\n",
       "    <tr>\n",
       "      <th>256443</th>\n",
       "      <td>1019</td>\n",
       "      <td>0</td>\n",
       "      <td>0.000000</td>\n",
       "    </tr>\n",
       "    <tr>\n",
       "      <th>580826</th>\n",
       "      <td>635</td>\n",
       "      <td>0</td>\n",
       "      <td>0.000000</td>\n",
       "    </tr>\n",
       "    <tr>\n",
       "      <th>531202</th>\n",
       "      <td>105</td>\n",
       "      <td>0</td>\n",
       "      <td>0.000000</td>\n",
       "    </tr>\n",
       "    <tr>\n",
       "      <th>553556</th>\n",
       "      <td>635</td>\n",
       "      <td>0</td>\n",
       "      <td>0.000000</td>\n",
       "    </tr>\n",
       "  </tbody>\n",
       "</table>\n",
       "<p>77 rows × 3 columns</p>\n",
       "</div>"
      ],
      "text/plain": [
       "                count  connected  connect_rate\n",
       "pre_nucleus_id                                \n",
       "269247            956         29      0.030335\n",
       "330079           3308         63      0.019045\n",
       "330326           1834         33      0.017993\n",
       "258307           4277         64      0.014964\n",
       "612352            745         10      0.013423\n",
       "...               ...        ...           ...\n",
       "583891            629          0      0.000000\n",
       "256443           1019          0      0.000000\n",
       "580826            635          0      0.000000\n",
       "531202            105          0      0.000000\n",
       "553556            635          0      0.000000\n",
       "\n",
       "[77 rows x 3 columns]"
      ]
     },
     "execution_count": 13,
     "metadata": {},
     "output_type": "execute_result"
    }
   ],
   "source": [
    "# which neurons have the highest connection rate? Let's look at the features of these neurons\n",
    "adp_counts.sort_values(by=\"connect_rate\", ascending=False)"
   ]
  },
  {
   "cell_type": "code",
   "execution_count": 16,
   "metadata": {},
   "outputs": [
    {
     "name": "stdout",
     "output_type": "stream",
     "text": [
      "                ADP_total  connect_total  connect_rate\n",
      "pre_nucleus_id                                        \n",
      "189149               4242             32      0.007544\n",
      "222998               5512             32      0.005806\n",
      "223037               3108             23      0.007400\n",
      "224565               1534             13      0.008475\n",
      "230236               2403             10      0.004161\n",
      "...                   ...            ...           ...\n",
      "610498               6706             24      0.003579\n",
      "610535                719              1      0.001391\n",
      "610615               1213             10      0.008244\n",
      "612266                747              1      0.001339\n",
      "612352                745             10      0.013423\n",
      "\n",
      "[77 rows x 3 columns]\n"
     ]
    },
    {
     "data": {
      "text/plain": [
       "Index(['ID', 'adp_dist', 'post_skeletal_distance_to_soma',\n",
       "       'pre_skeletal_distance_to_soma', 'pre_oracle', 'pre_test_score',\n",
       "       'post_oracle', 'post_test_score', 'compartment', 'pre_brain_area',\n",
       "       'post_brain_area', 'pre_nucleus_id', 'post_nucleus_id', 'connected',\n",
       "       'pre_feature_weights', 'post_feature_weights', 'pre_morph_embeddings',\n",
       "       'post_morph_embeddings', 'axonal_coords', 'dendritic_coords',\n",
       "       'pre_nucleus_coords', 'post_nucleus_coords', 'nuclei_adp_dist',\n",
       "       'ADP_total', 'connect_total', 'connect_rate'],\n",
       "      dtype='object')"
      ]
     },
     "execution_count": 16,
     "metadata": {},
     "output_type": "execute_result"
    }
   ],
   "source": [
    "counts = df.groupby('pre_nucleus_id').count() # count of each presynaptic neuron\n",
    "counts = counts[\"ID\"]\n",
    "total_connections = df[[\"pre_nucleus_id\", \"connected\"]].groupby('pre_nucleus_id').sum()\n",
    "total_connections = total_connections[\"connected\"]\n",
    "adp_counts = pd.DataFrame([counts, total_connections]).transpose()\n",
    "adp_counts = adp_counts.rename(columns={\"ID\":\"ADP_total\", \"connected\":\"connect_total\"})\n",
    "adp_counts[\"connect_rate\"] = adp_counts[\"connect_total\"]/adp_counts[\"ADP_total\"]\n",
    "print(adp_counts)\n",
    "data = df.merge(adp_counts, left_on='pre_nucleus_id', right_on='pre_nucleus_id')\n",
    "data.columns"
   ]
  },
  {
   "cell_type": "code",
   "execution_count": null,
   "metadata": {},
   "outputs": [],
   "source": []
  }
 ],
 "metadata": {
  "kernelspec": {
   "display_name": "Python 3",
   "language": "python",
   "name": "python3"
  },
  "language_info": {
   "codemirror_mode": {
    "name": "ipython",
    "version": 3
   },
   "file_extension": ".py",
   "mimetype": "text/x-python",
   "name": "python",
   "nbconvert_exporter": "python",
   "pygments_lexer": "ipython3",
   "version": "3.11.4"
  }
 },
 "nbformat": 4,
 "nbformat_minor": 2
}
